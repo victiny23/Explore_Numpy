{
 "cells": [
  {
   "cell_type": "code",
   "execution_count": 1,
   "metadata": {},
   "outputs": [],
   "source": [
    "import numpy as np"
   ]
  },
  {
   "cell_type": "code",
   "execution_count": 8,
   "metadata": {},
   "outputs": [
    {
     "name": "stdout",
     "output_type": "stream",
     "text": [
      "(2, 3)\n",
      "(9,)\n",
      "[1 2 3 4 5 6 7 8 9]\n",
      "(10,)\n",
      "[1 2 3 4 5 6 1 0 1 0]\n"
     ]
    }
   ],
   "source": [
    "# append\n",
    "a = np.array([[1, 2, 3],\n",
    "              [4, 5, 6]])\n",
    "b = np.append(a, [7, 8, 9])\n",
    "c = np.append(a, [1, 0, 1, 0])\n",
    "print(a.shape)\n",
    "print(b.shape)\n",
    "print(b)\n",
    "print(c.shape)\n",
    "print(c)"
   ]
  },
  {
   "cell_type": "code",
   "execution_count": 25,
   "metadata": {},
   "outputs": [
    {
     "name": "stdout",
     "output_type": "stream",
     "text": [
      "[[1 2 3]\n",
      " [7 7 7]\n",
      " [4 5 6]]\n",
      "[[1 2 3]\n",
      " [7 8 9]\n",
      " [4 5 6]]\n",
      "[[1 2 3]\n",
      " [7 7 7]\n",
      " [8 8 8]\n",
      " [9 9 9]\n",
      " [4 5 6]]\n",
      "[[1 2 7 3]\n",
      " [4 5 7 6]]\n",
      "[[1 2 7 3]\n",
      " [4 5 8 6]]\n",
      "[[ 1  2  7  9  3]\n",
      " [ 4  5  8 10  6]]\n"
     ]
    }
   ],
   "source": [
    "# insert(array, obj, value, axis)\n",
    "# obj: int, slice, or sequence of ints\n",
    "# broadcast might occur\n",
    "d = np.insert(a, 1, [7], axis=0)\n",
    "print(d)\n",
    "e = np.insert(a, 1, [7, 8, 9], axis=0)\n",
    "print(e)\n",
    "f = np.insert(a, 1, [[7], [8], [9]], axis=0)\n",
    "print(f)\n",
    "g = np.insert(a, 2, [7], axis=1)\n",
    "print(g)\n",
    "h = np.insert(a, 2, [7, 8], axis=1)\n",
    "print(h)\n",
    "i = np.insert(a, 2, [[7, 8], [9, 10]], axis=1)\n",
    "print(i)"
   ]
  },
  {
   "cell_type": "code",
   "execution_count": 26,
   "metadata": {},
   "outputs": [
    {
     "name": "stdout",
     "output_type": "stream",
     "text": [
      "[[1 2 3]]\n",
      "[[1 2]\n",
      " [4 5]]\n"
     ]
    }
   ],
   "source": [
    "# delete\n",
    "j = np.delete(a, 1, axis=0)\n",
    "print(j)\n",
    "k = np.delete(a, 2, axis=1)\n",
    "print(k)"
   ]
  }
 ],
 "metadata": {
  "kernelspec": {
   "display_name": "Python 3",
   "language": "python",
   "name": "python3"
  },
  "language_info": {
   "codemirror_mode": {
    "name": "ipython",
    "version": 3
   },
   "file_extension": ".py",
   "mimetype": "text/x-python",
   "name": "python",
   "nbconvert_exporter": "python",
   "pygments_lexer": "ipython3",
   "version": "3.7.1"
  }
 },
 "nbformat": 4,
 "nbformat_minor": 2
}
