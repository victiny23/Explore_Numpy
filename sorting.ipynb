{
 "cells": [
  {
   "cell_type": "code",
   "execution_count": 11,
   "metadata": {},
   "outputs": [
    {
     "data": {
      "text/plain": [
       "array([ 9, 21, 36, 44, 47, 64, 67, 67, 83, 87])"
      ]
     },
     "execution_count": 11,
     "metadata": {},
     "output_type": "execute_result"
    }
   ],
   "source": [
    "import numpy as np\n",
    "\n",
    "np.random.seed(0)\n",
    "x = np.random.randint(0, 100, 10)\n",
    "\n",
    "\n",
    "\n",
    "def selection_sort(x):\n",
    "    for i in range(len(x)):\n",
    "        swap = i + np.argmin(x[i:])\n",
    "        (x[i], x[swap]) = (x[swap], x[i])\n",
    "    return x\n",
    "\n",
    "selection_sort(x)"
   ]
  },
  {
   "cell_type": "code",
   "execution_count": 14,
   "metadata": {},
   "outputs": [
    {
     "name": "stdout",
     "output_type": "stream",
     "text": [
      "[ 9 21 36 44 47 64 67 67 83 87]\n",
      "[0 1 2 3 4 5 6 7 8 9]\n",
      "[ 9 21 36 44 47 64 67 67 83 87]\n"
     ]
    }
   ],
   "source": [
    "\"\"\"Fast Sorting in NumPy:\"\"\"\n",
    "# np.sort \n",
    "print(np.sort(x))\n",
    "# np.argsort returns the indices of the sorted elements\n",
    "i = np.argsort(x)\n",
    "print(i)\n",
    "print(x[i])"
   ]
  },
  {
   "cell_type": "code",
   "execution_count": 15,
   "metadata": {},
   "outputs": [
    {
     "name": "stdout",
     "output_type": "stream",
     "text": [
      "[[6 3 7 4 6 9]\n",
      " [2 6 7 4 3 7]\n",
      " [7 2 5 4 1 7]\n",
      " [5 1 4 0 9 5]]\n"
     ]
    }
   ],
   "source": [
    "\"\"\"Sorting aling rows and columns\"\"\"\n",
    "rand = np.random.RandomState(42)\n",
    "X = rand.randint(0, 10, (4, 6))\n",
    "print(X)"
   ]
  },
  {
   "cell_type": "code",
   "execution_count": 16,
   "metadata": {},
   "outputs": [
    {
     "data": {
      "text/plain": [
       "array([[2, 1, 4, 0, 1, 5],\n",
       "       [5, 2, 5, 4, 3, 7],\n",
       "       [6, 3, 7, 4, 6, 7],\n",
       "       [7, 6, 7, 4, 9, 9]])"
      ]
     },
     "execution_count": 16,
     "metadata": {},
     "output_type": "execute_result"
    }
   ],
   "source": [
    "# sort each column of X\n",
    "np.sort(X, axis=0)"
   ]
  },
  {
   "cell_type": "code",
   "execution_count": 17,
   "metadata": {},
   "outputs": [
    {
     "data": {
      "text/plain": [
       "array([[3, 4, 6, 6, 7, 9],\n",
       "       [2, 3, 4, 6, 7, 7],\n",
       "       [1, 2, 4, 5, 7, 7],\n",
       "       [0, 1, 4, 5, 5, 9]])"
      ]
     },
     "execution_count": 17,
     "metadata": {},
     "output_type": "execute_result"
    }
   ],
   "source": [
    "# sort each row of X\n",
    "np.sort(X, axis=1)"
   ]
  },
  {
   "cell_type": "code",
   "execution_count": 18,
   "metadata": {},
   "outputs": [
    {
     "data": {
      "text/plain": [
       "array([2, 1, 3, 4, 6, 5, 7])"
      ]
     },
     "execution_count": 18,
     "metadata": {},
     "output_type": "execute_result"
    }
   ],
   "source": [
    "\"\"\"Partial Sorts: Partitioning\"\"\"\n",
    "# np.partition(x, n) finding the n smallest value in x\n",
    "x = np.array([7, 2, 3, 1, 6, 5, 4])\n",
    "# 3 smallest values to the left, the remaining values to the right\n",
    "# Within the two partitions, the elements have arbitrary order\n",
    "np.partition(x, 3)"
   ]
  },
  {
   "cell_type": "code",
   "execution_count": 20,
   "metadata": {},
   "outputs": [
    {
     "data": {
      "text/plain": [
       "array([[3, 4, 6, 7, 6, 9],\n",
       "       [2, 3, 4, 7, 6, 7],\n",
       "       [1, 2, 4, 5, 7, 7],\n",
       "       [0, 1, 4, 5, 9, 5]])"
      ]
     },
     "execution_count": 20,
     "metadata": {},
     "output_type": "execute_result"
    }
   ],
   "source": [
    "# finding the 2 smallest value in each row and show to the left\n",
    "np.partition(X, 2, axis=1)"
   ]
  },
  {
   "cell_type": "code",
   "execution_count": 22,
   "metadata": {},
   "outputs": [
    {
     "data": {
      "text/plain": [
       "<matplotlib.collections.PathCollection at 0x185e41444e0>"
      ]
     },
     "execution_count": 22,
     "metadata": {},
     "output_type": "execute_result"
    },
    {
     "data": {
      "image/png": "[encoded data removed]",
      "text/plain": [
       "<Figure size 432x288 with 1 Axes>"
      ]
     },
     "metadata": {},
     "output_type": "display_data"
    }
   ],
   "source": [
    "\"\"\"Example: k-Nearest Neighbors\"\"\"\n",
    "X = rand.rand(10, 2)\n",
    "\n",
    "%matplotlib inline\n",
    "import matplotlib.pyplot as plt\n",
    "import seaborn; seaborn.set()\n",
    "plt.scatter(X[:,0], X[:,1], s=100)"
   ]
  },
  {
   "cell_type": "code",
   "execution_count": 25,
   "metadata": {},
   "outputs": [
    {
     "data": {
      "text/plain": [
       "array([[[0.23089383, 0.24102547]],\n",
       "\n",
       "       [[0.68326352, 0.60999666]],\n",
       "\n",
       "       [[0.83319491, 0.17336465]],\n",
       "\n",
       "       [[0.39106061, 0.18223609]],\n",
       "\n",
       "       [[0.75536141, 0.42515587]],\n",
       "\n",
       "       [[0.20794166, 0.56770033]],\n",
       "\n",
       "       [[0.03131329, 0.84228477]],\n",
       "\n",
       "       [[0.44975413, 0.39515024]],\n",
       "\n",
       "       [[0.92665887, 0.727272  ]],\n",
       "\n",
       "       [[0.32654077, 0.57044397]]])"
      ]
     },
     "execution_count": 25,
     "metadata": {},
     "output_type": "execute_result"
    }
   ],
   "source": [
    "X[:,np.newaxis,:]"
   ]
  },
  {
   "cell_type": "code",
   "execution_count": 26,
   "metadata": {},
   "outputs": [
    {
     "data": {
      "text/plain": [
       "(10, 1, 2)"
      ]
     },
     "execution_count": 26,
     "metadata": {},
     "output_type": "execute_result"
    }
   ],
   "source": [
    "X[:,np.newaxis,:].shape"
   ]
  },
  {
   "cell_type": "code",
   "execution_count": 27,
   "metadata": {},
   "outputs": [
    {
     "data": {
      "text/plain": [
       "array([[[0.23089383, 0.24102547],\n",
       "        [0.68326352, 0.60999666],\n",
       "        [0.83319491, 0.17336465],\n",
       "        [0.39106061, 0.18223609],\n",
       "        [0.75536141, 0.42515587],\n",
       "        [0.20794166, 0.56770033],\n",
       "        [0.03131329, 0.84228477],\n",
       "        [0.44975413, 0.39515024],\n",
       "        [0.92665887, 0.727272  ],\n",
       "        [0.32654077, 0.57044397]]])"
      ]
     },
     "execution_count": 27,
     "metadata": {},
     "output_type": "execute_result"
    }
   ],
   "source": [
    "X[np.newaxis,:,:]"
   ]
  },
  {
   "cell_type": "code",
   "execution_count": 28,
   "metadata": {},
   "outputs": [
    {
     "data": {
      "text/plain": [
       "(1, 10, 2)"
      ]
     },
     "execution_count": 28,
     "metadata": {},
     "output_type": "execute_result"
    }
   ],
   "source": [
    "X[np.newaxis,:,:].shape"
   ]
  },
  {
   "cell_type": "code",
   "execution_count": 34,
   "metadata": {},
   "outputs": [
    {
     "data": {
      "text/plain": [
       "(10, 10, 2)"
      ]
     },
     "execution_count": 34,
     "metadata": {},
     "output_type": "execute_result"
    }
   ],
   "source": [
    "differences = X[:,np.newaxis,:] - X[np.newaxis,:,:]\n",
    "differences.shape"
   ]
  },
  {
   "cell_type": "code",
   "execution_count": 35,
   "metadata": {},
   "outputs": [
    {
     "data": {
      "text/plain": [
       "(10, 10, 2)"
      ]
     },
     "execution_count": 35,
     "metadata": {},
     "output_type": "execute_result"
    }
   ],
   "source": [
    "sq_differences = differences ** 2\n",
    "sq_differences.shape"
   ]
  },
  {
   "cell_type": "code",
   "execution_count": 36,
   "metadata": {},
   "outputs": [
    {
     "data": {
      "text/plain": [
       "(10, 10)"
      ]
     },
     "execution_count": 36,
     "metadata": {},
     "output_type": "execute_result"
    }
   ],
   "source": [
    "dist_sq = sq_differences.sum(-1)\n",
    "dist_sq.shape"
   ]
  },
  {
   "cell_type": "code",
   "execution_count": 37,
   "metadata": {},
   "outputs": [
    {
     "data": {
      "text/plain": [
       "array([0., 0., 0., 0., 0., 0., 0., 0., 0., 0.])"
      ]
     },
     "execution_count": 37,
     "metadata": {},
     "output_type": "execute_result"
    }
   ],
   "source": [
    "# check the diagonal of this matrix: the distances btw each point and itself\n",
    "dist_sq.diagonal()"
   ]
  },
  {
   "cell_type": "code",
   "execution_count": 38,
   "metadata": {},
   "outputs": [
    {
     "name": "stdout",
     "output_type": "stream",
     "text": [
      "[[0.         0.34077808 0.36734458 0.02910959 0.30897025 0.10724327\n",
      "  0.40134515 0.07165428 0.72052468 0.11766489]\n",
      " [0.34077808 0.         0.21312693 0.26836165 0.03936422 0.22771985\n",
      "  0.47899687 0.10068562 0.0729948  0.12881554]\n",
      " [0.36734458 0.21312693 0.         0.19556145 0.06945687 0.54644225\n",
      "  1.09046826 0.19621568 0.31554885 0.41437041]\n",
      " [0.02910959 0.26836165 0.19556145 0.         0.1917251  0.18211523\n",
      "  0.5650824  0.04877736 0.58392964 0.15486817]\n",
      " [0.30897025 0.03936422 0.06945687 0.1917251  0.         0.3199873\n",
      "  0.6982422  0.09429615 0.12061697 0.20499577]\n",
      " [0.10724327 0.22771985 0.54644225 0.18211523 0.3199873  0.\n",
      "  0.1065942  0.08824681 0.54201754 0.01407328]\n",
      " [0.40134515 0.47899687 1.09046826 0.5650824  0.6982422  0.1065942\n",
      "  0.         0.37502203 0.81487163 0.16105668]\n",
      " [0.07165428 0.10068562 0.19621568 0.04877736 0.09429615 0.08824681\n",
      "  0.37502203 0.         0.33774299 0.04590943]\n",
      " [0.72052468 0.0729948  0.31554885 0.58392964 0.12061697 0.54201754\n",
      "  0.81487163 0.33774299 0.         0.38473676]\n",
      " [0.11766489 0.12881554 0.41437041 0.15486817 0.20499577 0.01407328\n",
      "  0.16105668 0.04590943 0.38473676 0.        ]]\n"
     ]
    }
   ],
   "source": [
    "print(dist_sq)"
   ]
  },
  {
   "cell_type": "code",
   "execution_count": 39,
   "metadata": {},
   "outputs": [
    {
     "name": "stdout",
     "output_type": "stream",
     "text": [
      "[[0 3 7 5 9 4 1 2 6 8]\n",
      " [1 4 8 7 9 2 5 3 0 6]\n",
      " [2 4 3 7 1 8 0 9 5 6]\n",
      " [3 0 7 9 5 4 2 1 6 8]\n",
      " [4 1 2 7 8 3 9 0 5 6]\n",
      " [5 9 7 6 0 3 1 4 8 2]\n",
      " [6 5 9 7 0 1 3 4 8 2]\n",
      " [7 9 3 0 5 4 1 2 8 6]\n",
      " [8 1 4 2 7 9 5 3 0 6]\n",
      " [9 5 7 0 1 3 6 4 8 2]]\n"
     ]
    }
   ],
   "source": [
    "# The leftmost columns give the indices of the nearest neighbors\n",
    "nearest = np.argsort(dist_sq, axis=1)\n",
    "# the 1st column gives the number 0 through 9 in order: each point's cloest neighbor is itself\n",
    "print(nearest)"
   ]
  },
  {
   "cell_type": "code",
   "execution_count": 40,
   "metadata": {},
   "outputs": [],
   "source": [
    "# to find the nearest k neighbors, partition each row so that the smallest k+1 squred distances come first\n",
    "# k+1: to include the k neighbors and the point itself\n",
    "k = 2\n",
    "nearest_partition = np.argpartition(dist_sq, k+1, axis=1)"
   ]
  },
  {
   "cell_type": "code",
   "execution_count": 49,
   "metadata": {},
   "outputs": [
    {
     "data": {
      "image/png": "[encoded data removed]",
      "text/plain": [
       "<Figure size 432x288 with 1 Axes>"
      ]
     },
     "metadata": {},
     "output_type": "display_data"
    }
   ],
   "source": [
    "plt.scatter(X[:,0], X[:,1], s=50)\n",
    "# draw lines from each point to its 2 nearest neighbors\n",
    "# loop through point 0 to 9\n",
    "for i in range(X.shape[0]):\n",
    "    # loop thought the point i and 2 nearest neighbors, including the point itself\n",
    "    for j in nearest_partition[i, :k+1]:\n",
    "        # plot a line from X[i] to X[j]\n",
    "        # use some zip magic \n",
    "        plt.plot((*zip(X[i], X[j])), color='black')"
   ]
  },
  {
   "cell_type": "code",
   "execution_count": 46,
   "metadata": {},
   "outputs": [
    {
     "data": {
      "text/plain": [
       "array([1, 4, 8], dtype=int64)"
      ]
     },
     "execution_count": 46,
     "metadata": {},
     "output_type": "execute_result"
    }
   ],
   "source": [
    "nearest[1,:3]"
   ]
  }
 ],
 "metadata": {
  "kernelspec": {
   "display_name": "Python 3",
   "language": "python",
   "name": "python3"
  },
  "language_info": {
   "codemirror_mode": {
    "name": "ipython",
    "version": 3
   },
   "file_extension": ".py",
   "mimetype": "text/x-python",
   "name": "python",
   "nbconvert_exporter": "python",
   "pygments_lexer": "ipython3",
   "version": "3.7.1"
  }
 },
 "nbformat": 4,
 "nbformat_minor": 2
}
