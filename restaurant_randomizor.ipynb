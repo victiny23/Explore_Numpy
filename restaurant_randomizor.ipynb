{
 "cells": [
  {
   "cell_type": "code",
   "execution_count": 20,
   "metadata": {},
   "outputs": [
    {
     "name": "stdout",
     "output_type": "stream",
     "text": [
      "Raku\n"
     ]
    }
   ],
   "source": [
    "\"\"\"\n",
    "0: coco\n",
    "1: madam\n",
    "2: raku\n",
    "3: J2\n",
    "4: kokodak\n",
    "\n",
    "\"\"\"\n",
    "import numpy as np\n",
    "%matplotlib inline\n",
    "import matplotlib.pyplot as plt\n",
    "import seaborn\n",
    "seaborn.set()\n",
    "\n",
    "\"\"\"\n",
    "x = np.random.randint(0,5,10)\n",
    "bins = np.linspace(0, 4, 10)\n",
    "plt.hist(x, bins, histtype='step')\n",
    "\"\"\"\n",
    "list = ['Coco', 'Madam Mam', 'Raku', 'J2', 'Kokodak']\n",
    "\n",
    "last_time = 0\n",
    "\n",
    "today = last_time\n",
    "while today == last_time:\n",
    "    today = np.random.randint(0, 5, 1)\n",
    "    \n",
    "print(list[today[0]])\n",
    "    "
   ]
  },
  {
   "cell_type": "code",
   "execution_count": null,
   "metadata": {},
   "outputs": [],
   "source": []
  },
  {
   "cell_type": "code",
   "execution_count": null,
   "metadata": {},
   "outputs": [],
   "source": []
  },
  {
   "cell_type": "code",
   "execution_count": null,
   "metadata": {},
   "outputs": [],
   "source": []
  }
 ],
 "metadata": {
  "kernelspec": {
   "display_name": "Python 3",
   "language": "python",
   "name": "python3"
  },
  "language_info": {
   "codemirror_mode": {
    "name": "ipython",
    "version": 3
   },
   "file_extension": ".py",
   "mimetype": "text/x-python",
   "name": "python",
   "nbconvert_exporter": "python",
   "pygments_lexer": "ipython3",
   "version": "3.7.1"
  }
 },
 "nbformat": 4,
 "nbformat_minor": 2
}
