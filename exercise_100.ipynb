{
 "cells": [
  {
   "cell_type": "code",
   "execution_count": 1,
   "metadata": {},
   "outputs": [],
   "source": [
    "# 1\n",
    "import numpy as np "
   ]
  },
  {
   "cell_type": "code",
   "execution_count": 3,
   "metadata": {},
   "outputs": [
    {
     "name": "stdout",
     "output_type": "stream",
     "text": [
      "1.16.2\n",
      "blas_mkl_info:\n",
      "  NOT AVAILABLE\n",
      "blis_info:\n",
      "  NOT AVAILABLE\n",
      "openblas_info:\n",
      "    library_dirs = ['C:\\\\projects\\\\numpy-wheels\\\\numpy\\\\build\\\\openblas']\n",
      "    libraries = ['openblas']\n",
      "    language = f77\n",
      "    define_macros = [('HAVE_CBLAS', None)]\n",
      "blas_opt_info:\n",
      "    library_dirs = ['C:\\\\projects\\\\numpy-wheels\\\\numpy\\\\build\\\\openblas']\n",
      "    libraries = ['openblas']\n",
      "    language = f77\n",
      "    define_macros = [('HAVE_CBLAS', None)]\n",
      "lapack_mkl_info:\n",
      "  NOT AVAILABLE\n",
      "openblas_lapack_info:\n",
      "    library_dirs = ['C:\\\\projects\\\\numpy-wheels\\\\numpy\\\\build\\\\openblas']\n",
      "    libraries = ['openblas']\n",
      "    language = f77\n",
      "    define_macros = [('HAVE_CBLAS', None)]\n",
      "lapack_opt_info:\n",
      "    library_dirs = ['C:\\\\projects\\\\numpy-wheels\\\\numpy\\\\build\\\\openblas']\n",
      "    libraries = ['openblas']\n",
      "    language = f77\n",
      "    define_macros = [('HAVE_CBLAS', None)]\n"
     ]
    }
   ],
   "source": [
    "# 2 show np version and configuration\n",
    "print(np.__version__)\n",
    "np.show_config()"
   ]
  },
  {
   "cell_type": "code",
   "execution_count": 4,
   "metadata": {},
   "outputs": [
    {
     "data": {
      "text/plain": [
       "array([0., 0., 0., 0., 0., 0., 0., 0., 0., 0.])"
      ]
     },
     "execution_count": 4,
     "metadata": {},
     "output_type": "execute_result"
    }
   ],
   "source": [
    "# 3 create a zero vector with length of 10\n",
    "z = np.zeros(10)\n",
    "z"
   ]
  },
  {
   "cell_type": "code",
   "execution_count": 6,
   "metadata": {},
   "outputs": [
    {
     "data": {
      "text/plain": [
       "800"
      ]
     },
     "execution_count": 6,
     "metadata": {},
     "output_type": "execute_result"
    }
   ],
   "source": [
    "# 4 how to find the memory size of an array\n",
    "z = np.zeros((10, 10))\n",
    "z.size * z.itemsize"
   ]
  },
  {
   "cell_type": "code",
   "execution_count": 7,
   "metadata": {},
   "outputs": [
    {
     "name": "stdout",
     "output_type": "stream",
     "text": [
      "add(x1, x2, /, out=None, *, where=True, casting='same_kind', order='K', dtype=None, subok=True[, signature, extobj])\n",
      "\n",
      "Add arguments element-wise.\n",
      "\n",
      "Parameters\n",
      "----------\n",
      "x1, x2 : array_like\n",
      "    The arrays to be added.  If ``x1.shape != x2.shape``, they must be\n",
      "    broadcastable to a common shape (which may be the shape of one or\n",
      "    the other).\n",
      "out : ndarray, None, or tuple of ndarray and None, optional\n",
      "    A location into which the result is stored. If provided, it must have\n",
      "    a shape that the inputs broadcast to. If not provided or `None`,\n",
      "    a freshly-allocated array is returned. A tuple (possible only as a\n",
      "    keyword argument) must have length equal to the number of outputs.\n",
      "where : array_like, optional\n",
      "    Values of True indicate to calculate the ufunc at that position, values\n",
      "    of False indicate to leave the value in the output alone.\n",
      "**kwargs\n",
      "    For other keyword-only arguments, see the\n",
      "    :ref:`ufunc docs <ufuncs.kwargs>`.\n",
      "\n",
      "Returns\n",
      "-------\n",
      "add : ndarray or scalar\n",
      "    The sum of `x1` and `x2`, element-wise.\n",
      "    This is a scalar if both `x1` and `x2` are scalars.\n",
      "\n",
      "Notes\n",
      "-----\n",
      "Equivalent to `x1` + `x2` in terms of array broadcasting.\n",
      "\n",
      "Examples\n",
      "--------\n",
      ">>> np.add(1.0, 4.0)\n",
      "5.0\n",
      ">>> x1 = np.arange(9.0).reshape((3, 3))\n",
      ">>> x2 = np.arange(3.0)\n",
      ">>> np.add(x1, x2)\n",
      "array([[  0.,   2.,   4.],\n",
      "       [  3.,   5.,   7.],\n",
      "       [  6.,   8.,  10.]])\n"
     ]
    }
   ],
   "source": [
    "# 5 get the document of fumction add\n",
    "np.info(np.add)"
   ]
  },
  {
   "cell_type": "code",
   "execution_count": 8,
   "metadata": {},
   "outputs": [
    {
     "data": {
      "text/plain": [
       "array([0., 0., 0., 0., 1., 0., 0., 0., 0., 0.])"
      ]
     },
     "execution_count": 8,
     "metadata": {},
     "output_type": "execute_result"
    }
   ],
   "source": [
    "# 6 create a zero vector with length of 10, except the 5th value as 1\n",
    "z = np.zeros((10))\n",
    "z[4] = 1\n",
    "z"
   ]
  },
  {
   "cell_type": "code",
   "execution_count": 9,
   "metadata": {},
   "outputs": [
    {
     "data": {
      "text/plain": [
       "array([10, 11, 12, 13, 14, 15, 16, 17, 18, 19, 20, 21, 22, 23, 24, 25, 26,\n",
       "       27, 28, 29, 30, 31, 32, 33, 34, 35, 36, 37, 38, 39, 40, 41, 42, 43,\n",
       "       44, 45, 46, 47, 48, 49])"
      ]
     },
     "execution_count": 9,
     "metadata": {},
     "output_type": "execute_result"
    }
   ],
   "source": [
    "# 7 creata a vector with range from 10 to 49\n",
    "z = np.arange(10, 50)\n",
    "z"
   ]
  },
  {
   "cell_type": "code",
   "execution_count": 15,
   "metadata": {},
   "outputs": [
    {
     "data": {
      "text/plain": [
       "array([9, 8, 7, 6, 5, 4, 3, 2, 1, 0])"
      ]
     },
     "execution_count": 15,
     "metadata": {},
     "output_type": "execute_result"
    }
   ],
   "source": [
    "# 8 flip a vector (the last element becomes the 1st one)\n",
    "z = np.arange(10)\n",
    "z[::-1]\n",
    "np.flip(z)"
   ]
  },
  {
   "cell_type": "code",
   "execution_count": 16,
   "metadata": {},
   "outputs": [
    {
     "data": {
      "text/plain": [
       "array([[0, 1, 2],\n",
       "       [3, 4, 5],\n",
       "       [6, 7, 8]])"
      ]
     },
     "execution_count": 16,
     "metadata": {},
     "output_type": "execute_result"
    }
   ],
   "source": [
    "# 9 create a 3x3 array with value from 0 to 8\n",
    "z = np.arange(9).reshape(3, 3)\n",
    "z"
   ]
  },
  {
   "cell_type": "code",
   "execution_count": 17,
   "metadata": {},
   "outputs": [
    {
     "data": {
      "text/plain": [
       "(array([0, 1, 4], dtype=int64),)"
      ]
     },
     "execution_count": 17,
     "metadata": {},
     "output_type": "execute_result"
    }
   ],
   "source": [
    "# 10 find the position of non-zero element in [1, 2, 0, 0, 4, 0]\n",
    "z = [1, 2, 0, 0, 4, 0]\n",
    "np.nonzero(z)"
   ]
  },
  {
   "cell_type": "code",
   "execution_count": 18,
   "metadata": {},
   "outputs": [
    {
     "data": {
      "text/plain": [
       "array([[1., 0., 0.],\n",
       "       [0., 1., 0.],\n",
       "       [0., 0., 1.]])"
      ]
     },
     "execution_count": 18,
     "metadata": {},
     "output_type": "execute_result"
    }
   ],
   "source": [
    "# 11 create a 3x3 identity matrix (1 on diagnol and 0 for the rest)\n",
    "np.eye(3)"
   ]
  },
  {
   "cell_type": "code",
   "execution_count": 21,
   "metadata": {},
   "outputs": [
    {
     "data": {
      "text/plain": [
       "array([[[0.98849597, 0.20708515, 0.60975416],\n",
       "        [0.45711488, 0.9614041 , 0.60511282],\n",
       "        [0.85361762, 0.00526133, 0.34096951]],\n",
       "\n",
       "       [[0.66741371, 0.44661174, 0.16088234],\n",
       "        [0.35497886, 0.06836824, 0.93615214],\n",
       "        [0.06104942, 0.57460413, 0.96503408]],\n",
       "\n",
       "       [[0.97567423, 0.81115981, 0.628614  ],\n",
       "        [0.15910824, 0.0802131 , 0.70853758],\n",
       "        [0.36085426, 0.08204847, 0.37600919]]])"
      ]
     },
     "execution_count": 21,
     "metadata": {},
     "output_type": "execute_result"
    }
   ],
   "source": [
    "# 12 create a 3x3x3 random array\n",
    "np.random.random((3, 3, 3))"
   ]
  },
  {
   "cell_type": "code",
   "execution_count": 23,
   "metadata": {},
   "outputs": [
    {
     "name": "stdout",
     "output_type": "stream",
     "text": [
      "[[5.60305975e-01 2.32769570e-01 9.05198186e-02 1.91105901e-01\n",
      "  8.70262933e-01 7.64611819e-01 1.36671605e-01 6.36836792e-01\n",
      "  8.37798532e-01 8.85856978e-01]\n",
      " [3.49950381e-01 4.42303606e-01 9.05299031e-01 7.56276862e-01\n",
      "  4.49021079e-02 4.31732662e-01 6.95954421e-01 4.54654482e-05\n",
      "  1.25066413e-01 4.63653485e-01]\n",
      " [4.21532891e-01 2.79682302e-01 5.78911440e-01 9.68235648e-01\n",
      "  5.68233091e-01 9.20193161e-01 2.33074912e-01 8.89215924e-01\n",
      "  4.96775568e-01 8.25863066e-01]\n",
      " [2.86571769e-01 8.97337748e-01 2.64970553e-01 7.00346901e-01\n",
      "  9.24359312e-01 9.27507233e-01 7.26886471e-01 2.41130959e-01\n",
      "  3.09233679e-01 6.94295058e-01]\n",
      " [4.29420944e-01 2.59236988e-02 9.85764547e-01 8.09275928e-01\n",
      "  3.41841507e-02 7.32899958e-01 4.52824344e-01 5.06412457e-02\n",
      "  8.08379921e-01 8.07184415e-02]\n",
      " [4.47188245e-01 8.14963291e-01 2.03118307e-01 5.92195924e-01\n",
      "  4.33905381e-01 7.99621529e-01 9.74081160e-01 7.49716284e-01\n",
      "  5.63992835e-01 3.21557029e-01]\n",
      " [9.86020026e-01 7.13471045e-01 4.15413766e-01 2.41680801e-01\n",
      "  1.59440567e-01 2.81051636e-01 3.71897102e-01 4.14062041e-01\n",
      "  2.43641444e-01 1.03185210e-01]\n",
      " [4.98492074e-02 3.85686646e-01 7.12148350e-01 3.23248428e-01\n",
      "  2.00404890e-01 2.06671482e-01 2.41051186e-03 3.94943198e-01\n",
      "  9.40445478e-02 9.67660639e-01]\n",
      " [8.36906694e-01 6.95756475e-01 4.31850745e-01 7.29631715e-02\n",
      "  3.77174881e-01 7.68125755e-01 9.85459941e-01 9.16972737e-01\n",
      "  8.49747973e-02 4.36946371e-01]\n",
      " [9.96331074e-01 3.73121409e-01 1.22354075e-01 4.23604467e-01\n",
      "  4.09294469e-01 2.10177731e-01 8.28648379e-01 5.93636616e-01\n",
      "  9.70432748e-01 3.92631708e-01]]\n",
      "0.9963310743613123\n",
      "4.546544824202137e-05\n"
     ]
    }
   ],
   "source": [
    "# 13 create a 10x10 random array and find its maximum and minimum\n",
    "z = np.random.random((10, 10))\n",
    "print(z)\n",
    "print(z.max())\n",
    "print(z.min())"
   ]
  },
  {
   "cell_type": "code",
   "execution_count": 25,
   "metadata": {},
   "outputs": [
    {
     "name": "stdout",
     "output_type": "stream",
     "text": [
      "[0.54195232 0.23653665 0.64723308 0.23079299 0.14392256 0.22008671\n",
      " 0.47363595 0.74663898 0.5812239  0.85397633 0.10377823 0.42810189\n",
      " 0.35936572 0.7533233  0.05390604 0.31539939 0.56007544 0.80565943\n",
      " 0.26902759 0.56610388 0.13817867 0.65323144 0.55451389 0.47796782\n",
      " 0.04113609 0.52246947 0.99026387 0.75162911 0.7805537  0.40243915]\n",
      "0.47343745243198676\n"
     ]
    }
   ],
   "source": [
    "# 14 create a random vector with length of 30 and find its average\n",
    "z = np.random.random(30)\n",
    "print(z)\n",
    "print(z.mean())"
   ]
  },
  {
   "cell_type": "code",
   "execution_count": 27,
   "metadata": {},
   "outputs": [
    {
     "data": {
      "text/plain": [
       "array([[1., 1., 1., 1., 1.],\n",
       "       [1., 0., 0., 0., 1.],\n",
       "       [1., 0., 0., 0., 1.],\n",
       "       [1., 0., 0., 0., 1.],\n",
       "       [1., 0., 0., 0., 1.],\n",
       "       [1., 1., 1., 1., 1.]])"
      ]
     },
     "execution_count": 27,
     "metadata": {},
     "output_type": "execute_result"
    }
   ],
   "source": [
    "# 15 create a 2d array, with bounds of 1 and the rest all as 0\n",
    "z  = np.ones((6, 5))\n",
    "z[1:-1, 1:-1] = 0\n",
    "z"
   ]
  },
  {
   "cell_type": "code",
   "execution_count": 44,
   "metadata": {},
   "outputs": [
    {
     "data": {
      "text/plain": [
       "array([[ 0.,  0.,  0.,  0.,  0.,  0.,  0.],\n",
       "       [ 0.,  0.,  1.,  2.,  3.,  4.,  0.],\n",
       "       [ 0.,  5.,  6.,  7.,  8.,  9.,  0.],\n",
       "       [ 0., 10., 11., 12., 13., 14.,  0.],\n",
       "       [ 0., 15., 16., 17., 18., 19.,  0.],\n",
       "       [ 0., 20., 21., 22., 23., 24.,  0.],\n",
       "       [ 0., 25., 26., 27., 28., 29.,  0.],\n",
       "       [ 0.,  0.,  0.,  0.,  0.,  0.,  0.]])"
      ]
     },
     "execution_count": 44,
     "metadata": {},
     "output_type": "execute_result"
    }
   ],
   "source": [
    "# 16 for a existing array, add bounds with all 0\n",
    "z = np.arange(30).reshape(6, 5)\n",
    "nz = np.zeros([l+2 for l in z.shape])\n",
    "nz[1:-1, 1:-1] = z\n",
    "nz\n",
    "\n",
    "# np.pad(z, pad_width=1, mode='constant', constant_values=0)"
   ]
  },
  {
   "cell_type": "code",
   "execution_count": 67,
   "metadata": {},
   "outputs": [
    {
     "name": "stdout",
     "output_type": "stream",
     "text": [
      "nan\n",
      "False\n",
      "False\n",
      "nan\n",
      "True\n",
      "False\n",
      "-5.551115123125783e-17\n",
      "True\n",
      "0.0\n"
     ]
    }
   ],
   "source": [
    "# 17 what are the results of the following expressions?\n",
    "print(0 * np.nan)\n",
    "print(np.nan == np.nan)\n",
    "print(np.inf > np.nan)\n",
    "print(np.nan - np.nan)\n",
    "print(False == False)\n",
    "\"\"\" errors occur when converting between data types\"\"\"\n",
    "print(0.3 == 3 * 0.1)\n",
    "print(0.3 - (3*0.1)) \n",
    "print(0.2 * 0.3 == 0.4 * 0.15)\n",
    "print(0.2*0.3 - (0.4*0.15)) "
   ]
  },
  {
   "cell_type": "code",
   "execution_count": 68,
   "metadata": {},
   "outputs": [
    {
     "data": {
      "text/plain": [
       "array([[0., 0., 0., 0., 0.],\n",
       "       [1., 0., 0., 0., 0.],\n",
       "       [0., 2., 0., 0., 0.],\n",
       "       [0., 0., 3., 0., 0.],\n",
       "       [0., 0., 0., 4., 0.]])"
      ]
     },
     "execution_count": 68,
     "metadata": {},
     "output_type": "execute_result"
    }
   ],
   "source": [
    "# 18 create a 5x5 matrix, set 1, 2, 3, 4 under its diagonal\n",
    "np.diag(1+np.arange(4), k=-1)\n",
    "\n",
    "z = np.zeros((5, 5))\n",
    "for i in range(4):\n",
    "    z[i+1, i] = i+1\n",
    "z"
   ]
  },
  {
   "cell_type": "code",
   "execution_count": 72,
   "metadata": {},
   "outputs": [
    {
     "data": {
      "text/plain": [
       "array([[1., 0., 1., 0., 1., 0., 1., 0.],\n",
       "       [0., 1., 0., 1., 0., 1., 0., 1.],\n",
       "       [1., 0., 1., 0., 1., 0., 1., 0.],\n",
       "       [0., 1., 0., 1., 0., 1., 0., 1.],\n",
       "       [1., 0., 1., 0., 1., 0., 1., 0.],\n",
       "       [0., 1., 0., 1., 0., 1., 0., 1.],\n",
       "       [1., 0., 1., 0., 1., 0., 1., 0.],\n",
       "       [0., 1., 0., 1., 0., 1., 0., 1.]])"
      ]
     },
     "execution_count": 72,
     "metadata": {},
     "output_type": "execute_result"
    }
   ],
   "source": [
    "# 19 creata a 8x8 matrix, and set it like a chessboard\n",
    "z = np.zeros((8, 8))\n",
    "z[0::2, 0::2] = 1\n",
    "z[1::2, 1::2] = 1 \n",
    "z"
   ]
  },
  {
   "cell_type": "code",
   "execution_count": 73,
   "metadata": {},
   "outputs": [
    {
     "data": {
      "text/plain": [
       "(1, 5, 4)"
      ]
     },
     "execution_count": 73,
     "metadata": {},
     "output_type": "execute_result"
    }
   ],
   "source": [
    "# 20 considering a array of shape(6, 7, 8), what's the index (x, y, z) of the 100th element?\n",
    "np.unravel_index(100, (6, 7, 8))"
   ]
  },
  {
   "cell_type": "code",
   "execution_count": 75,
   "metadata": {},
   "outputs": [
    {
     "data": {
      "text/plain": [
       "array([[1, 0, 1, 0, 1, 0, 1, 0],\n",
       "       [0, 1, 0, 1, 0, 1, 0, 1],\n",
       "       [1, 0, 1, 0, 1, 0, 1, 0],\n",
       "       [0, 1, 0, 1, 0, 1, 0, 1],\n",
       "       [1, 0, 1, 0, 1, 0, 1, 0],\n",
       "       [0, 1, 0, 1, 0, 1, 0, 1],\n",
       "       [1, 0, 1, 0, 1, 0, 1, 0],\n",
       "       [0, 1, 0, 1, 0, 1, 0, 1]])"
      ]
     },
     "execution_count": 75,
     "metadata": {},
     "output_type": "execute_result"
    }
   ],
   "source": [
    "# 21 create a chessboard-like matrix of 8x8 with np.tile()\n",
    "tile = np.array([[1, 0],\n",
    "                 [0, 1]])\n",
    "np.tile(tile, (4, 4))"
   ]
  },
  {
   "cell_type": "code",
   "execution_count": 77,
   "metadata": {},
   "outputs": [
    {
     "data": {
      "text/plain": [
       "array([[0.47075706, 0.68902499, 0.99298051, 0.88263209, 0.79830005],\n",
       "       [0.13989227, 0.22577004, 0.66425793, 0.2509405 , 0.13765555],\n",
       "       [0.79651489, 0.43489204, 0.09223384, 0.37403949, 0.13833269],\n",
       "       [0.85820833, 0.23580064, 0.36263511, 0.26197793, 0.55241579],\n",
       "       [1.        , 0.23107605, 0.187103  , 0.        , 0.38872053]])"
      ]
     },
     "execution_count": 77,
     "metadata": {},
     "output_type": "execute_result"
    }
   ],
   "source": [
    "# 22 normalize a 5x5 random matrix\n",
    "z = np.random.random((5, 5))\n",
    "(z-z.min())/(z.max()-z.min())"
   ]
  },
  {
   "cell_type": "code",
   "execution_count": 78,
   "metadata": {},
   "outputs": [
    {
     "data": {
      "text/plain": [
       "dtype([('r', 'u1'), ('g', 'u1'), ('b', 'u1'), ('a', 'u1')])"
      ]
     },
     "execution_count": 78,
     "metadata": {},
     "output_type": "execute_result"
    }
   ],
   "source": [
    "# 23 create a custom dtype that describes color as (RGBA)\n",
    "color = np.dtype([(\"r\", np.ubyte,1),\n",
    "                  (\"g\", np.ubyte, 1),\n",
    "                  (\"b\", np.ubyte, 1),\n",
    "                  (\"a\", np.ubyte, 1)])\n",
    "color"
   ]
  },
  {
   "cell_type": "code",
   "execution_count": 80,
   "metadata": {},
   "outputs": [
    {
     "data": {
      "text/plain": [
       "array([[0.6357857 , 0.37335443],\n",
       "       [1.15235625, 0.85726829],\n",
       "       [0.39564502, 0.56771574],\n",
       "       [1.06407406, 0.74174633],\n",
       "       [0.81461518, 0.74278793]])"
      ]
     },
     "execution_count": 80,
     "metadata": {},
     "output_type": "execute_result"
    }
   ],
   "source": [
    "# 24 what's the shape of the product if you multiply a 5x3 matrix by a 3x2 matrix\n",
    "np.dot(np.random.random((5, 3)), np.random.random((3, 2)))"
   ]
  },
  {
   "cell_type": "code",
   "execution_count": 83,
   "metadata": {},
   "outputs": [
    {
     "data": {
      "text/plain": [
       "array([ 0,  1,  2,  3, -4, -5, -6, -7, -8,  9, 10, 11])"
      ]
     },
     "execution_count": 83,
     "metadata": {},
     "output_type": "execute_result"
    }
   ],
   "source": [
    "# 25 given an array, change the sign for values between 3 and 8\n",
    "z = np.arange(12)\n",
    "z[(z>3) & (z<=8)] *= -1\n",
    "z"
   ]
  }
 ],
 "metadata": {
  "kernelspec": {
   "display_name": "Python 3",
   "language": "python",
   "name": "python3"
  },
  "language_info": {
   "codemirror_mode": {
    "name": "ipython",
    "version": 3
   },
   "file_extension": ".py",
   "mimetype": "text/x-python",
   "name": "python",
   "nbconvert_exporter": "python",
   "pygments_lexer": "ipython3",
   "version": "3.7.1"
  }
 },
 "nbformat": 4,
 "nbformat_minor": 2
}
