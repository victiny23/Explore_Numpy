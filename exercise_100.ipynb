{
 "cells": [
  {
   "cell_type": "code",
   "execution_count": 3,
   "metadata": {},
   "outputs": [],
   "source": [
    "# 1\n",
    "import numpy as np "
   ]
  },
  {
   "cell_type": "code",
   "execution_count": 3,
   "metadata": {},
   "outputs": [
    {
     "name": "stdout",
     "output_type": "stream",
     "text": [
      "1.16.2\n",
      "blas_mkl_info:\n",
      "  NOT AVAILABLE\n",
      "blis_info:\n",
      "  NOT AVAILABLE\n",
      "openblas_info:\n",
      "    library_dirs = ['C:\\\\projects\\\\numpy-wheels\\\\numpy\\\\build\\\\openblas']\n",
      "    libraries = ['openblas']\n",
      "    language = f77\n",
      "    define_macros = [('HAVE_CBLAS', None)]\n",
      "blas_opt_info:\n",
      "    library_dirs = ['C:\\\\projects\\\\numpy-wheels\\\\numpy\\\\build\\\\openblas']\n",
      "    libraries = ['openblas']\n",
      "    language = f77\n",
      "    define_macros = [('HAVE_CBLAS', None)]\n",
      "lapack_mkl_info:\n",
      "  NOT AVAILABLE\n",
      "openblas_lapack_info:\n",
      "    library_dirs = ['C:\\\\projects\\\\numpy-wheels\\\\numpy\\\\build\\\\openblas']\n",
      "    libraries = ['openblas']\n",
      "    language = f77\n",
      "    define_macros = [('HAVE_CBLAS', None)]\n",
      "lapack_opt_info:\n",
      "    library_dirs = ['C:\\\\projects\\\\numpy-wheels\\\\numpy\\\\build\\\\openblas']\n",
      "    libraries = ['openblas']\n",
      "    language = f77\n",
      "    define_macros = [('HAVE_CBLAS', None)]\n"
     ]
    }
   ],
   "source": [
    "# 2 show np version and configuration\n",
    "print(np.__version__)\n",
    "np.show_config()"
   ]
  },
  {
   "cell_type": "code",
   "execution_count": 4,
   "metadata": {},
   "outputs": [
    {
     "data": {
      "text/plain": [
       "array([0., 0., 0., 0., 0., 0., 0., 0., 0., 0.])"
      ]
     },
     "execution_count": 4,
     "metadata": {},
     "output_type": "execute_result"
    }
   ],
   "source": [
    "# 3 create a zero vector with length of 10\n",
    "z = np.zeros(10)\n",
    "z"
   ]
  },
  {
   "cell_type": "code",
   "execution_count": 6,
   "metadata": {},
   "outputs": [
    {
     "data": {
      "text/plain": [
       "800"
      ]
     },
     "execution_count": 6,
     "metadata": {},
     "output_type": "execute_result"
    }
   ],
   "source": [
    "# 4 how to find the memory size of an array\n",
    "z = np.zeros((10, 10))\n",
    "z.size * z.itemsize"
   ]
  },
  {
   "cell_type": "code",
   "execution_count": 7,
   "metadata": {},
   "outputs": [
    {
     "name": "stdout",
     "output_type": "stream",
     "text": [
      "add(x1, x2, /, out=None, *, where=True, casting='same_kind', order='K', dtype=None, subok=True[, signature, extobj])\n",
      "\n",
      "Add arguments element-wise.\n",
      "\n",
      "Parameters\n",
      "----------\n",
      "x1, x2 : array_like\n",
      "    The arrays to be added.  If ``x1.shape != x2.shape``, they must be\n",
      "    broadcastable to a common shape (which may be the shape of one or\n",
      "    the other).\n",
      "out : ndarray, None, or tuple of ndarray and None, optional\n",
      "    A location into which the result is stored. If provided, it must have\n",
      "    a shape that the inputs broadcast to. If not provided or `None`,\n",
      "    a freshly-allocated array is returned. A tuple (possible only as a\n",
      "    keyword argument) must have length equal to the number of outputs.\n",
      "where : array_like, optional\n",
      "    Values of True indicate to calculate the ufunc at that position, values\n",
      "    of False indicate to leave the value in the output alone.\n",
      "**kwargs\n",
      "    For other keyword-only arguments, see the\n",
      "    :ref:`ufunc docs <ufuncs.kwargs>`.\n",
      "\n",
      "Returns\n",
      "-------\n",
      "add : ndarray or scalar\n",
      "    The sum of `x1` and `x2`, element-wise.\n",
      "    This is a scalar if both `x1` and `x2` are scalars.\n",
      "\n",
      "Notes\n",
      "-----\n",
      "Equivalent to `x1` + `x2` in terms of array broadcasting.\n",
      "\n",
      "Examples\n",
      "--------\n",
      ">>> np.add(1.0, 4.0)\n",
      "5.0\n",
      ">>> x1 = np.arange(9.0).reshape((3, 3))\n",
      ">>> x2 = np.arange(3.0)\n",
      ">>> np.add(x1, x2)\n",
      "array([[  0.,   2.,   4.],\n",
      "       [  3.,   5.,   7.],\n",
      "       [  6.,   8.,  10.]])\n"
     ]
    }
   ],
   "source": [
    "# 5 get the document of fumction add\n",
    "np.info(np.add)"
   ]
  },
  {
   "cell_type": "code",
   "execution_count": 8,
   "metadata": {},
   "outputs": [
    {
     "data": {
      "text/plain": [
       "array([0., 0., 0., 0., 1., 0., 0., 0., 0., 0.])"
      ]
     },
     "execution_count": 8,
     "metadata": {},
     "output_type": "execute_result"
    }
   ],
   "source": [
    "# 6 create a zero vector with length of 10, except the 5th value as 1\n",
    "z = np.zeros((10))\n",
    "z[4] = 1\n",
    "z"
   ]
  },
  {
   "cell_type": "code",
   "execution_count": 9,
   "metadata": {},
   "outputs": [
    {
     "data": {
      "text/plain": [
       "array([10, 11, 12, 13, 14, 15, 16, 17, 18, 19, 20, 21, 22, 23, 24, 25, 26,\n",
       "       27, 28, 29, 30, 31, 32, 33, 34, 35, 36, 37, 38, 39, 40, 41, 42, 43,\n",
       "       44, 45, 46, 47, 48, 49])"
      ]
     },
     "execution_count": 9,
     "metadata": {},
     "output_type": "execute_result"
    }
   ],
   "source": [
    "# 7 creata a vector with range from 10 to 49\n",
    "z = np.arange(10, 50)\n",
    "z"
   ]
  },
  {
   "cell_type": "code",
   "execution_count": 15,
   "metadata": {},
   "outputs": [
    {
     "data": {
      "text/plain": [
       "array([9, 8, 7, 6, 5, 4, 3, 2, 1, 0])"
      ]
     },
     "execution_count": 15,
     "metadata": {},
     "output_type": "execute_result"
    }
   ],
   "source": [
    "# 8 flip a vector (the last element becomes the 1st one)\n",
    "z = np.arange(10)\n",
    "z[::-1]\n",
    "np.flip(z)"
   ]
  },
  {
   "cell_type": "code",
   "execution_count": 16,
   "metadata": {},
   "outputs": [
    {
     "data": {
      "text/plain": [
       "array([[0, 1, 2],\n",
       "       [3, 4, 5],\n",
       "       [6, 7, 8]])"
      ]
     },
     "execution_count": 16,
     "metadata": {},
     "output_type": "execute_result"
    }
   ],
   "source": [
    "# 9 create a 3x3 array with value from 0 to 8\n",
    "z = np.arange(9).reshape(3, 3)\n",
    "z"
   ]
  },
  {
   "cell_type": "code",
   "execution_count": 17,
   "metadata": {},
   "outputs": [
    {
     "data": {
      "text/plain": [
       "(array([0, 1, 4], dtype=int64),)"
      ]
     },
     "execution_count": 17,
     "metadata": {},
     "output_type": "execute_result"
    }
   ],
   "source": [
    "# 10 find the position of non-zero element in [1, 2, 0, 0, 4, 0]\n",
    "z = [1, 2, 0, 0, 4, 0]\n",
    "np.nonzero(z)"
   ]
  },
  {
   "cell_type": "code",
   "execution_count": 18,
   "metadata": {},
   "outputs": [
    {
     "data": {
      "text/plain": [
       "array([[1., 0., 0.],\n",
       "       [0., 1., 0.],\n",
       "       [0., 0., 1.]])"
      ]
     },
     "execution_count": 18,
     "metadata": {},
     "output_type": "execute_result"
    }
   ],
   "source": [
    "# 11 create a 3x3 identity matrix (1 on diagnol and 0 for the rest)\n",
    "np.eye(3)"
   ]
  },
  {
   "cell_type": "code",
   "execution_count": 21,
   "metadata": {},
   "outputs": [
    {
     "data": {
      "text/plain": [
       "array([[[0.98849597, 0.20708515, 0.60975416],\n",
       "        [0.45711488, 0.9614041 , 0.60511282],\n",
       "        [0.85361762, 0.00526133, 0.34096951]],\n",
       "\n",
       "       [[0.66741371, 0.44661174, 0.16088234],\n",
       "        [0.35497886, 0.06836824, 0.93615214],\n",
       "        [0.06104942, 0.57460413, 0.96503408]],\n",
       "\n",
       "       [[0.97567423, 0.81115981, 0.628614  ],\n",
       "        [0.15910824, 0.0802131 , 0.70853758],\n",
       "        [0.36085426, 0.08204847, 0.37600919]]])"
      ]
     },
     "execution_count": 21,
     "metadata": {},
     "output_type": "execute_result"
    }
   ],
   "source": [
    "# 12 create a 3x3x3 random array\n",
    "np.random.random((3, 3, 3))"
   ]
  },
  {
   "cell_type": "code",
   "execution_count": 23,
   "metadata": {},
   "outputs": [
    {
     "name": "stdout",
     "output_type": "stream",
     "text": [
      "[[5.60305975e-01 2.32769570e-01 9.05198186e-02 1.91105901e-01\n",
      "  8.70262933e-01 7.64611819e-01 1.36671605e-01 6.36836792e-01\n",
      "  8.37798532e-01 8.85856978e-01]\n",
      " [3.49950381e-01 4.42303606e-01 9.05299031e-01 7.56276862e-01\n",
      "  4.49021079e-02 4.31732662e-01 6.95954421e-01 4.54654482e-05\n",
      "  1.25066413e-01 4.63653485e-01]\n",
      " [4.21532891e-01 2.79682302e-01 5.78911440e-01 9.68235648e-01\n",
      "  5.68233091e-01 9.20193161e-01 2.33074912e-01 8.89215924e-01\n",
      "  4.96775568e-01 8.25863066e-01]\n",
      " [2.86571769e-01 8.97337748e-01 2.64970553e-01 7.00346901e-01\n",
      "  9.24359312e-01 9.27507233e-01 7.26886471e-01 2.41130959e-01\n",
      "  3.09233679e-01 6.94295058e-01]\n",
      " [4.29420944e-01 2.59236988e-02 9.85764547e-01 8.09275928e-01\n",
      "  3.41841507e-02 7.32899958e-01 4.52824344e-01 5.06412457e-02\n",
      "  8.08379921e-01 8.07184415e-02]\n",
      " [4.47188245e-01 8.14963291e-01 2.03118307e-01 5.92195924e-01\n",
      "  4.33905381e-01 7.99621529e-01 9.74081160e-01 7.49716284e-01\n",
      "  5.63992835e-01 3.21557029e-01]\n",
      " [9.86020026e-01 7.13471045e-01 4.15413766e-01 2.41680801e-01\n",
      "  1.59440567e-01 2.81051636e-01 3.71897102e-01 4.14062041e-01\n",
      "  2.43641444e-01 1.03185210e-01]\n",
      " [4.98492074e-02 3.85686646e-01 7.12148350e-01 3.23248428e-01\n",
      "  2.00404890e-01 2.06671482e-01 2.41051186e-03 3.94943198e-01\n",
      "  9.40445478e-02 9.67660639e-01]\n",
      " [8.36906694e-01 6.95756475e-01 4.31850745e-01 7.29631715e-02\n",
      "  3.77174881e-01 7.68125755e-01 9.85459941e-01 9.16972737e-01\n",
      "  8.49747973e-02 4.36946371e-01]\n",
      " [9.96331074e-01 3.73121409e-01 1.22354075e-01 4.23604467e-01\n",
      "  4.09294469e-01 2.10177731e-01 8.28648379e-01 5.93636616e-01\n",
      "  9.70432748e-01 3.92631708e-01]]\n",
      "0.9963310743613123\n",
      "4.546544824202137e-05\n"
     ]
    }
   ],
   "source": [
    "# 13 create a 10x10 random array and find its maximum and minimum\n",
    "z = np.random.random((10, 10))\n",
    "print(z)\n",
    "print(z.max())\n",
    "print(z.min())"
   ]
  },
  {
   "cell_type": "code",
   "execution_count": 25,
   "metadata": {},
   "outputs": [
    {
     "name": "stdout",
     "output_type": "stream",
     "text": [
      "[0.54195232 0.23653665 0.64723308 0.23079299 0.14392256 0.22008671\n",
      " 0.47363595 0.74663898 0.5812239  0.85397633 0.10377823 0.42810189\n",
      " 0.35936572 0.7533233  0.05390604 0.31539939 0.56007544 0.80565943\n",
      " 0.26902759 0.56610388 0.13817867 0.65323144 0.55451389 0.47796782\n",
      " 0.04113609 0.52246947 0.99026387 0.75162911 0.7805537  0.40243915]\n",
      "0.47343745243198676\n"
     ]
    }
   ],
   "source": [
    "# 14 create a random vector with length of 30 and find its average\n",
    "z = np.random.random(30)\n",
    "print(z)\n",
    "print(z.mean())"
   ]
  },
  {
   "cell_type": "code",
   "execution_count": 27,
   "metadata": {},
   "outputs": [
    {
     "data": {
      "text/plain": [
       "array([[1., 1., 1., 1., 1.],\n",
       "       [1., 0., 0., 0., 1.],\n",
       "       [1., 0., 0., 0., 1.],\n",
       "       [1., 0., 0., 0., 1.],\n",
       "       [1., 0., 0., 0., 1.],\n",
       "       [1., 1., 1., 1., 1.]])"
      ]
     },
     "execution_count": 27,
     "metadata": {},
     "output_type": "execute_result"
    }
   ],
   "source": [
    "# 15 create a 2d array, with bounds of 1 and the rest all as 0\n",
    "z  = np.ones((6, 5))\n",
    "z[1:-1, 1:-1] = 0\n",
    "z"
   ]
  },
  {
   "cell_type": "code",
   "execution_count": 44,
   "metadata": {},
   "outputs": [
    {
     "data": {
      "text/plain": [
       "array([[ 0.,  0.,  0.,  0.,  0.,  0.,  0.],\n",
       "       [ 0.,  0.,  1.,  2.,  3.,  4.,  0.],\n",
       "       [ 0.,  5.,  6.,  7.,  8.,  9.,  0.],\n",
       "       [ 0., 10., 11., 12., 13., 14.,  0.],\n",
       "       [ 0., 15., 16., 17., 18., 19.,  0.],\n",
       "       [ 0., 20., 21., 22., 23., 24.,  0.],\n",
       "       [ 0., 25., 26., 27., 28., 29.,  0.],\n",
       "       [ 0.,  0.,  0.,  0.,  0.,  0.,  0.]])"
      ]
     },
     "execution_count": 44,
     "metadata": {},
     "output_type": "execute_result"
    }
   ],
   "source": [
    "# 16 for a existing array, add bounds with all 0\n",
    "z = np.arange(30).reshape(6, 5)\n",
    "nz = np.zeros([l+2 for l in z.shape])\n",
    "nz[1:-1, 1:-1] = z\n",
    "nz\n",
    "\n",
    "# np.pad(z, pad_width=1, mode='constant', constant_values=0)"
   ]
  },
  {
   "cell_type": "code",
   "execution_count": 67,
   "metadata": {},
   "outputs": [
    {
     "name": "stdout",
     "output_type": "stream",
     "text": [
      "nan\n",
      "False\n",
      "False\n",
      "nan\n",
      "True\n",
      "False\n",
      "-5.551115123125783e-17\n",
      "True\n",
      "0.0\n"
     ]
    }
   ],
   "source": [
    "# 17 what are the results of the following expressions?\n",
    "print(0 * np.nan)\n",
    "print(np.nan == np.nan)\n",
    "print(np.inf > np.nan)\n",
    "print(np.nan - np.nan)\n",
    "print(False == False)\n",
    "\"\"\" errors occur when converting between data types\"\"\"\n",
    "print(0.3 == 3 * 0.1)\n",
    "print(0.3 - (3*0.1)) \n",
    "print(0.2 * 0.3 == 0.4 * 0.15)\n",
    "print(0.2*0.3 - (0.4*0.15)) "
   ]
  },
  {
   "cell_type": "code",
   "execution_count": 68,
   "metadata": {},
   "outputs": [
    {
     "data": {
      "text/plain": [
       "array([[0., 0., 0., 0., 0.],\n",
       "       [1., 0., 0., 0., 0.],\n",
       "       [0., 2., 0., 0., 0.],\n",
       "       [0., 0., 3., 0., 0.],\n",
       "       [0., 0., 0., 4., 0.]])"
      ]
     },
     "execution_count": 68,
     "metadata": {},
     "output_type": "execute_result"
    }
   ],
   "source": [
    "# 18 create a 5x5 matrix, set 1, 2, 3, 4 under its diagonal\n",
    "np.diag(1+np.arange(4), k=-1)\n",
    "\n",
    "z = np.zeros((5, 5))\n",
    "for i in range(4):\n",
    "    z[i+1, i] = i+1\n",
    "z"
   ]
  },
  {
   "cell_type": "code",
   "execution_count": 72,
   "metadata": {},
   "outputs": [
    {
     "data": {
      "text/plain": [
       "array([[1., 0., 1., 0., 1., 0., 1., 0.],\n",
       "       [0., 1., 0., 1., 0., 1., 0., 1.],\n",
       "       [1., 0., 1., 0., 1., 0., 1., 0.],\n",
       "       [0., 1., 0., 1., 0., 1., 0., 1.],\n",
       "       [1., 0., 1., 0., 1., 0., 1., 0.],\n",
       "       [0., 1., 0., 1., 0., 1., 0., 1.],\n",
       "       [1., 0., 1., 0., 1., 0., 1., 0.],\n",
       "       [0., 1., 0., 1., 0., 1., 0., 1.]])"
      ]
     },
     "execution_count": 72,
     "metadata": {},
     "output_type": "execute_result"
    }
   ],
   "source": [
    "# 19 creata a 8x8 matrix, and set it like a chessboard\n",
    "z = np.zeros((8, 8))\n",
    "z[0::2, 0::2] = 1\n",
    "z[1::2, 1::2] = 1 \n",
    "z"
   ]
  },
  {
   "cell_type": "code",
   "execution_count": 73,
   "metadata": {},
   "outputs": [
    {
     "data": {
      "text/plain": [
       "(1, 5, 4)"
      ]
     },
     "execution_count": 73,
     "metadata": {},
     "output_type": "execute_result"
    }
   ],
   "source": [
    "# 20 considering a array of shape(6, 7, 8), what's the index (x, y, z) of the 100th element?\n",
    "np.unravel_index(100, (6, 7, 8))"
   ]
  },
  {
   "cell_type": "code",
   "execution_count": 75,
   "metadata": {},
   "outputs": [
    {
     "data": {
      "text/plain": [
       "array([[1, 0, 1, 0, 1, 0, 1, 0],\n",
       "       [0, 1, 0, 1, 0, 1, 0, 1],\n",
       "       [1, 0, 1, 0, 1, 0, 1, 0],\n",
       "       [0, 1, 0, 1, 0, 1, 0, 1],\n",
       "       [1, 0, 1, 0, 1, 0, 1, 0],\n",
       "       [0, 1, 0, 1, 0, 1, 0, 1],\n",
       "       [1, 0, 1, 0, 1, 0, 1, 0],\n",
       "       [0, 1, 0, 1, 0, 1, 0, 1]])"
      ]
     },
     "execution_count": 75,
     "metadata": {},
     "output_type": "execute_result"
    }
   ],
   "source": [
    "# 21 create a chessboard-like matrix of 8x8 with np.tile()\n",
    "tile = np.array([[1, 0],\n",
    "                 [0, 1]])\n",
    "np.tile(tile, (4, 4))"
   ]
  },
  {
   "cell_type": "code",
   "execution_count": 77,
   "metadata": {},
   "outputs": [
    {
     "data": {
      "text/plain": [
       "array([[0.47075706, 0.68902499, 0.99298051, 0.88263209, 0.79830005],\n",
       "       [0.13989227, 0.22577004, 0.66425793, 0.2509405 , 0.13765555],\n",
       "       [0.79651489, 0.43489204, 0.09223384, 0.37403949, 0.13833269],\n",
       "       [0.85820833, 0.23580064, 0.36263511, 0.26197793, 0.55241579],\n",
       "       [1.        , 0.23107605, 0.187103  , 0.        , 0.38872053]])"
      ]
     },
     "execution_count": 77,
     "metadata": {},
     "output_type": "execute_result"
    }
   ],
   "source": [
    "# 22 normalize a 5x5 random matrix\n",
    "z = np.random.random((5, 5))\n",
    "(z-z.min())/(z.max()-z.min())"
   ]
  },
  {
   "cell_type": "code",
   "execution_count": 78,
   "metadata": {},
   "outputs": [
    {
     "data": {
      "text/plain": [
       "dtype([('r', 'u1'), ('g', 'u1'), ('b', 'u1'), ('a', 'u1')])"
      ]
     },
     "execution_count": 78,
     "metadata": {},
     "output_type": "execute_result"
    }
   ],
   "source": [
    "# 23 create a custom dtype that describes color as (RGBA)\n",
    "color = np.dtype([(\"r\", np.ubyte,1),\n",
    "                  (\"g\", np.ubyte, 1),\n",
    "                  (\"b\", np.ubyte, 1),\n",
    "                  (\"a\", np.ubyte, 1)])\n",
    "color"
   ]
  },
  {
   "cell_type": "code",
   "execution_count": 80,
   "metadata": {},
   "outputs": [
    {
     "data": {
      "text/plain": [
       "array([[0.6357857 , 0.37335443],\n",
       "       [1.15235625, 0.85726829],\n",
       "       [0.39564502, 0.56771574],\n",
       "       [1.06407406, 0.74174633],\n",
       "       [0.81461518, 0.74278793]])"
      ]
     },
     "execution_count": 80,
     "metadata": {},
     "output_type": "execute_result"
    }
   ],
   "source": [
    "# 24 what's the shape of the product if you multiply a 5x3 matrix by a 3x2 matrix\n",
    "np.dot(np.random.random((5, 3)), np.random.random((3, 2)))"
   ]
  },
  {
   "cell_type": "code",
   "execution_count": 83,
   "metadata": {},
   "outputs": [
    {
     "data": {
      "text/plain": [
       "array([ 0,  1,  2,  3, -4, -5, -6, -7, -8,  9, 10, 11])"
      ]
     },
     "execution_count": 83,
     "metadata": {},
     "output_type": "execute_result"
    }
   ],
   "source": [
    "# 25 given an array, change the sign for values between 3 and 8\n",
    "z = np.arange(12)\n",
    "z[(z>3) & (z<=8)] *= -1\n",
    "z"
   ]
  },
  {
   "cell_type": "code",
   "execution_count": 12,
   "metadata": {},
   "outputs": [
    {
     "name": "stdout",
     "output_type": "stream",
     "text": [
      "9\n",
      "10\n"
     ]
    }
   ],
   "source": [
    "# 26 compare the differences\n",
    "print(sum(range(5), -1))\n",
    "# this is actually 10 - 1\n",
    "print(np.sum(range(5), -1))\n",
    "# this is np.sum(range(5), axis=-1)"
   ]
  },
  {
   "cell_type": "code",
   "execution_count": 25,
   "metadata": {},
   "outputs": [
    {
     "name": "stdout",
     "output_type": "stream",
     "text": [
      "[0 1 2 3 4]\n",
      "[  1   1   4  27 256]\n",
      "[0 1 2 4 8]\n",
      "[False False False False False]\n",
      "[0.+0.j 0.+1.j 0.+2.j 0.+3.j 0.+4.j]\n",
      "[0. 1. 2. 3. 4.]\n"
     ]
    },
    {
     "ename": "ValueError",
     "evalue": "The truth value of an array with more than one element is ambiguous. Use a.any() or a.all()",
     "output_type": "error",
     "traceback": [
      "\u001b[1;31m---------------------------------------------------------------------------\u001b[0m",
      "\u001b[1;31mValueError\u001b[0m                                Traceback (most recent call last)",
      "\u001b[1;32m<ipython-input-25-51de9c6add5a>\u001b[0m in \u001b[0;36m<module>\u001b[1;34m\u001b[0m\n\u001b[0;32m     14\u001b[0m \u001b[0mprint\u001b[0m\u001b[1;33m(\u001b[0m\u001b[0mz\u001b[0m\u001b[1;33m/\u001b[0m\u001b[1;36m1\u001b[0m\u001b[1;33m/\u001b[0m\u001b[1;36m1\u001b[0m\u001b[1;33m)\u001b[0m \u001b[1;31m# legal\u001b[0m\u001b[1;33m\u001b[0m\u001b[1;33m\u001b[0m\u001b[0m\n\u001b[0;32m     15\u001b[0m \u001b[1;33m\u001b[0m\u001b[0m\n\u001b[1;32m---> 16\u001b[1;33m \u001b[0mprint\u001b[0m\u001b[1;33m(\u001b[0m\u001b[0mz\u001b[0m\u001b[1;33m<\u001b[0m\u001b[0mz\u001b[0m\u001b[1;33m>\u001b[0m\u001b[0mz\u001b[0m\u001b[1;33m)\u001b[0m \u001b[1;31m# false\u001b[0m\u001b[1;33m\u001b[0m\u001b[1;33m\u001b[0m\u001b[0m\n\u001b[0m",
      "\u001b[1;31mValueError\u001b[0m: The truth value of an array with more than one element is ambiguous. Use a.any() or a.all()"
     ]
    }
   ],
   "source": [
    "# 27 considering a int vector z, which of the following expressions are legal?\n",
    "z = np.arange(5) \n",
    "print(z)\n",
    "\n",
    "print(z ** z) # legal\n",
    "\n",
    "# BItwisperator\n",
    "print(2 << z >> 2) # false\n",
    "\n",
    "print(z < -z) # legal\n",
    "\n",
    "print(1j*z) # legal\n",
    "\n",
    "print(z/1/1) # legal\n",
    "\n",
    "print(z<z>z) # false"
   ]
  },
  {
   "cell_type": "code",
   "execution_count": 29,
   "metadata": {},
   "outputs": [
    {
     "name": "stdout",
     "output_type": "stream",
     "text": [
      "nan\n",
      "0\n",
      "[-2.14748365e+09]\n"
     ]
    },
    {
     "name": "stderr",
     "output_type": "stream",
     "text": [
      "C:\\Users\\Victiny\\Anaconda3\\lib\\site-packages\\ipykernel_launcher.py:2: RuntimeWarning: invalid value encountered in true_divide\n",
      "  \n",
      "C:\\Users\\Victiny\\Anaconda3\\lib\\site-packages\\ipykernel_launcher.py:3: RuntimeWarning: divide by zero encountered in floor_divide\n",
      "  This is separate from the ipykernel package so we can avoid doing imports until\n"
     ]
    }
   ],
   "source": [
    "# 28 \n",
    "print(np.array(0) / np.array(0))\n",
    "print(np.array(0) // np.array(0))\n",
    "print(np.array([np.nan]).astype(int).astype(float))"
   ]
  },
  {
   "cell_type": "code",
   "execution_count": 32,
   "metadata": {},
   "outputs": [
    {
     "name": "stdout",
     "output_type": "stream",
     "text": [
      "[-3.97079547  0.42991544 -5.20624864 -4.60406889 -2.4651297   4.45862542\n",
      "  9.70864445 -1.302014    4.28674543  1.5071089 ]\n"
     ]
    },
    {
     "data": {
      "text/plain": [
       "array([-4.,  0., -5., -5., -2.,  4., 10., -1.,  4.,  2.])"
      ]
     },
     "execution_count": 32,
     "metadata": {},
     "output_type": "execute_result"
    }
   ],
   "source": [
    "# 29\n",
    "z = np.random.uniform(-10, 10, 10)\n",
    "print(z)\n",
    "np.copysign(np.round(np.abs(z)), z)"
   ]
  },
  {
   "cell_type": "code",
   "execution_count": 39,
   "metadata": {},
   "outputs": [
    {
     "name": "stdout",
     "output_type": "stream",
     "text": [
      "[[3 4 3 1 5 1 9 7 8 9]\n",
      " [2 1 3 1 8 6 4 4 5 5]]\n",
      "[5 3 9 0 2 8 0 4 7 8]\n"
     ]
    },
    {
     "data": {
      "text/plain": [
       "array([2, 3, 4, 5, 7, 8, 9])"
      ]
     },
     "execution_count": 39,
     "metadata": {},
     "output_type": "execute_result"
    }
   ],
   "source": [
    "# 30 find same element in two arrays\n",
    "z1 = np.random.randint(0, 10, (2, 10))\n",
    "z2 = np.random.randint(0, 10, 10)\n",
    "print(z1)\n",
    "print(z2)\n",
    "np.intersect1d(z1, z2)"
   ]
  },
  {
   "cell_type": "code",
   "execution_count": 43,
   "metadata": {},
   "outputs": [
    {
     "name": "stdout",
     "output_type": "stream",
     "text": [
      "[inf]\n"
     ]
    },
    {
     "data": {
      "text/plain": [
       "{'divide': 'ignore', 'over': 'ignore', 'under': 'ignore', 'invalid': 'ignore'}"
      ]
     },
     "execution_count": 43,
     "metadata": {},
     "output_type": "execute_result"
    }
   ],
   "source": [
    "# 31 how to ignore all alerts (not recomeneded)\n",
    "# suicide mode on\n",
    "defaults = np.seterr(all='ignore')\n",
    "print(np.ones(1) / 0)\n",
    "\n",
    "# back to sanity\n",
    "np.seterr(**defaults)"
   ]
  },
  {
   "cell_type": "code",
   "execution_count": 45,
   "metadata": {},
   "outputs": [
    {
     "name": "stdout",
     "output_type": "stream",
     "text": [
      "nan\n",
      "1j\n"
     ]
    }
   ],
   "source": [
    "# 32 imaginary number\n",
    "print(np.sqrt(-1))\n",
    "print(np.emath.sqrt(-1))"
   ]
  },
  {
   "cell_type": "code",
   "execution_count": 47,
   "metadata": {},
   "outputs": [
    {
     "name": "stdout",
     "output_type": "stream",
     "text": [
      "yesterday: 2020-09-15\n",
      "today: 2020-09-16\n",
      "tomorrow: 2020-09-17\n"
     ]
    }
   ],
   "source": [
    "# 33 how to get the date of yesterday, today, and tomorrow\n",
    "yesterday = np.datetime64('today', 'D') - np.timedelta64(1, 'D')\n",
    "print('yesterday:', yesterday)\n",
    "today = np.datetime64('today', 'D') \n",
    "print('today:', today)\n",
    "tomorrow = np.datetime64('today', 'D') + np.timedelta64(1, 'D')\n",
    "print('tomorrow:', tomorrow)"
   ]
  },
  {
   "cell_type": "code",
   "execution_count": 49,
   "metadata": {},
   "outputs": [
    {
     "data": {
      "text/plain": [
       "array(['2016-07-01', '2016-07-02', '2016-07-03', '2016-07-04',\n",
       "       '2016-07-05', '2016-07-06', '2016-07-07', '2016-07-08',\n",
       "       '2016-07-09', '2016-07-10', '2016-07-11', '2016-07-12',\n",
       "       '2016-07-13', '2016-07-14', '2016-07-15', '2016-07-16',\n",
       "       '2016-07-17', '2016-07-18', '2016-07-19', '2016-07-20',\n",
       "       '2016-07-21', '2016-07-22', '2016-07-23', '2016-07-24',\n",
       "       '2016-07-25', '2016-07-26', '2016-07-27', '2016-07-28',\n",
       "       '2016-07-29', '2016-07-30', '2016-07-31'], dtype='datetime64[D]')"
      ]
     },
     "execution_count": 49,
     "metadata": {},
     "output_type": "execute_result"
    }
   ],
   "source": [
    "# 34 get all the dates in 2016-07\n",
    "np.arange('2016-07', '2016-08', dtype='datetime64[D]')"
   ]
  },
  {
   "cell_type": "code",
   "execution_count": 51,
   "metadata": {},
   "outputs": [
    {
     "data": {
      "text/plain": [
       "array([-1.5, -1.5, -1.5])"
      ]
     },
     "execution_count": 51,
     "metadata": {},
     "output_type": "execute_result"
    }
   ],
   "source": [
    "# 35 calculate (a+b)*(-a/2) without creating a copy\n",
    "a = np.ones(3) * 1\n",
    "b = np.ones(3) * 2\n",
    "np.add(a, b, out=b)\n",
    "np.divide(a, 2, out=a)\n",
    "np.negative(a, out=a)\n",
    "np.multiply(a, b, out=a)"
   ]
  },
  {
   "cell_type": "code",
   "execution_count": 55,
   "metadata": {},
   "outputs": [
    {
     "name": "stdout",
     "output_type": "stream",
     "text": [
      "[9.1919692  7.88496487 6.85970303 9.57556372 4.24797089 5.4158113\n",
      " 4.09055449 8.45354176 1.9094588  5.60945754]\n",
      "[9. 7. 6. 9. 4. 5. 4. 8. 1. 5.]\n",
      "[9. 7. 6. 9. 4. 5. 4. 8. 1. 5.]\n",
      "[10.  8.  7. 10.  5.  6.  5.  9.  2.  6.]\n",
      "[ 9.  8.  7. 10.  4.  5.  4.  8.  2.  6.]\n",
      "[9. 7. 6. 9. 4. 5. 4. 8. 1. 5.]\n"
     ]
    }
   ],
   "source": [
    "# 36 get the intergar part of a random number with 5 different methods\n",
    "z = np.random.uniform(0, 10, 10)\n",
    "print(z)\n",
    "print(z - z%1)\n",
    "print(np.floor(z))\n",
    "print(np.ceil(z))\n",
    "print(np.round(z))\n",
    "print(np.trunc(z))"
   ]
  },
  {
   "cell_type": "code",
   "execution_count": 56,
   "metadata": {},
   "outputs": [
    {
     "data": {
      "text/plain": [
       "array([[0., 1., 2., 3., 4.],\n",
       "       [0., 1., 2., 3., 4.],\n",
       "       [0., 1., 2., 3., 4.],\n",
       "       [0., 1., 2., 3., 4.],\n",
       "       [0., 1., 2., 3., 4.]])"
      ]
     },
     "execution_count": 56,
     "metadata": {},
     "output_type": "execute_result"
    }
   ],
   "source": [
    "# 37 create a 5x5 matrix, each row from 0 to 4\n",
    "z = np.arange(5)\n",
    "z + np.zeros((5, 5))"
   ]
  },
  {
   "cell_type": "code",
   "execution_count": 67,
   "metadata": {},
   "outputs": [
    {
     "data": {
      "text/plain": [
       "array([0., 1., 2., 3., 4., 5., 6., 7., 8., 9.])"
      ]
     },
     "execution_count": 67,
     "metadata": {},
     "output_type": "execute_result"
    }
   ],
   "source": [
    "# 38 use a function that produce 10 integars to create a array\n",
    "def generate():\n",
    "    for x in range(10):\n",
    "        yield x\n",
    "z = np.fromiter(generate(), dtype=float, count=-1)\n",
    "z"
   ]
  },
  {
   "cell_type": "code",
   "execution_count": 70,
   "metadata": {},
   "outputs": [
    {
     "data": {
      "text/plain": [
       "array([0.09090909, 0.18181818, 0.27272727, 0.36363636, 0.45454545,\n",
       "       0.54545455, 0.63636364, 0.72727273, 0.81818182, 0.90909091])"
      ]
     },
     "execution_count": 70,
     "metadata": {},
     "output_type": "execute_result"
    }
   ],
   "source": [
    "# 39 create a random vector with length of 10, ranging from 0 to 1 exclusive\n",
    "np.linspace(0, 1, 11, endpoint=False)[1:]"
   ]
  },
  {
   "cell_type": "code",
   "execution_count": 74,
   "metadata": {},
   "outputs": [
    {
     "data": {
      "text/plain": [
       "array([0.01389695, 0.15368991, 0.23878032, 0.40982221, 0.43664129,\n",
       "       0.48136962, 0.49731796, 0.6170854 , 0.61890077, 0.80253671])"
      ]
     },
     "execution_count": 74,
     "metadata": {},
     "output_type": "execute_result"
    }
   ],
   "source": [
    "# 40 create a random vector with length of 10, and sort it\n",
    "z = np.random.random(10)\n",
    "z.sort()\n",
    "z"
   ]
  },
  {
   "cell_type": "code",
   "execution_count": 75,
   "metadata": {},
   "outputs": [
    {
     "data": {
      "text/plain": [
       "45"
      ]
     },
     "execution_count": 75,
     "metadata": {},
     "output_type": "execute_result"
    }
   ],
   "source": [
    "# 41 for a small array, how to calculate the sum faster than using np.sum\n",
    "z = np.arange(10)\n",
    "np.add.reduce(z)"
   ]
  },
  {
   "cell_type": "code",
   "execution_count": 81,
   "metadata": {},
   "outputs": [
    {
     "name": "stdout",
     "output_type": "stream",
     "text": [
      "[1 1 0 1 1]\n",
      "[0 0 0 1 0]\n",
      "[False False  True  True False]\n",
      "False\n",
      "False\n",
      "False\n"
     ]
    }
   ],
   "source": [
    "# 42 for 2 random arrays, check if they are equal\n",
    "a = np.random.randint(0, 2, 5)\n",
    "b = np.random.randint(0, 2, 5)\n",
    "print(a)\n",
    "print(b)\n",
    "print(a == b)\n",
    "print(np.allclose(a, b))\n",
    "print(np.array_equal(a, b))\n",
    "print((a.shape == b.shape) & (sum(a == b) == a.size))"
   ]
  },
  {
   "cell_type": "code",
   "execution_count": 82,
   "metadata": {},
   "outputs": [
    {
     "ename": "ValueError",
     "evalue": "assignment destination is read-only",
     "output_type": "error",
     "traceback": [
      "\u001b[1;31m---------------------------------------------------------------------------\u001b[0m",
      "\u001b[1;31mValueError\u001b[0m                                Traceback (most recent call last)",
      "\u001b[1;32m<ipython-input-82-50da4e9e470b>\u001b[0m in \u001b[0;36m<module>\u001b[1;34m\u001b[0m\n\u001b[0;32m      2\u001b[0m \u001b[0mz\u001b[0m \u001b[1;33m=\u001b[0m \u001b[0mnp\u001b[0m\u001b[1;33m.\u001b[0m\u001b[0mzeros\u001b[0m\u001b[1;33m(\u001b[0m\u001b[1;36m10\u001b[0m\u001b[1;33m)\u001b[0m\u001b[1;33m\u001b[0m\u001b[1;33m\u001b[0m\u001b[0m\n\u001b[0;32m      3\u001b[0m \u001b[0mz\u001b[0m\u001b[1;33m.\u001b[0m\u001b[0mflags\u001b[0m\u001b[1;33m.\u001b[0m\u001b[0mwriteable\u001b[0m \u001b[1;33m=\u001b[0m \u001b[1;32mFalse\u001b[0m\u001b[1;33m\u001b[0m\u001b[1;33m\u001b[0m\u001b[0m\n\u001b[1;32m----> 4\u001b[1;33m \u001b[0mz\u001b[0m\u001b[1;33m[\u001b[0m\u001b[1;36m0\u001b[0m\u001b[1;33m]\u001b[0m \u001b[1;33m=\u001b[0m \u001b[1;36m1\u001b[0m\u001b[1;33m\u001b[0m\u001b[1;33m\u001b[0m\u001b[0m\n\u001b[0m",
      "\u001b[1;31mValueError\u001b[0m: assignment destination is read-only"
     ]
    }
   ],
   "source": [
    "# 43 create a read-only array\n",
    "z = np.zeros(10)\n",
    "z.flags.writeable = False\n",
    "z[0] = 1"
   ]
  },
  {
   "cell_type": "code",
   "execution_count": 100,
   "metadata": {},
   "outputs": [
    {
     "name": "stdout",
     "output_type": "stream",
     "text": [
      "[[0.4647323  0.63037005]\n",
      " [0.2103453  0.15580446]\n",
      " [0.62847    0.04640573]\n",
      " [0.62527333 0.60043049]\n",
      " [0.77797037 0.80472718]\n",
      " [0.58173346 0.13118498]\n",
      " [0.88685763 0.10052039]\n",
      " [0.86153843 0.62757614]\n",
      " [0.34190382 0.22520874]\n",
      " [0.81334648 0.2593298 ]]\n",
      "[0.78316186 0.26176359 0.63018095 0.86688149 1.11929609 0.59634161\n",
      " 0.89253616 1.06588005 0.40941079 0.85368873]\n",
      "[0.93551352 0.63752772 0.07370545 0.76513271 0.80230238 0.22179698\n",
      " 0.11286278 0.62955711 0.58246018 0.30865303]\n"
     ]
    },
    {
     "data": {
      "text/plain": [
       "array([[0.78316186, 0.93551352],\n",
       "       [0.26176359, 0.63752772],\n",
       "       [0.63018095, 0.07370545],\n",
       "       [0.86688149, 0.76513271],\n",
       "       [1.11929609, 0.80230238],\n",
       "       [0.59634161, 0.22179698],\n",
       "       [0.89253616, 0.11286278],\n",
       "       [1.06588005, 0.62955711],\n",
       "       [0.40941079, 0.58246018],\n",
       "       [0.85368873, 0.30865303]])"
      ]
     },
     "execution_count": 100,
     "metadata": {},
     "output_type": "execute_result"
    }
   ],
   "source": [
    "# 44 convert a 10x2 matrix in Cartesian coordinate system to polar coordinate system\n",
    "z = np.random.random((10, 2))\n",
    "print(z)\n",
    "x, y = z[:, 0], z[:, 1]\n",
    "r = np.sqrt(x**2 + y**2)\n",
    "t = np.arctan2(y, x)\n",
    "print(r)\n",
    "print(t)\n",
    "np.vstack((r, t)).T"
   ]
  },
  {
   "cell_type": "code",
   "execution_count": 104,
   "metadata": {},
   "outputs": [
    {
     "data": {
      "text/plain": [
       "array([0.43906799, 0.00874042, 0.19694063, 0.82499458, 0.03967665,\n",
       "       1.        , 0.12269736, 0.85254155, 0.78914633, 0.73114308])"
      ]
     },
     "execution_count": 104,
     "metadata": {},
     "output_type": "execute_result"
    }
   ],
   "source": [
    "# 45 create a vector with length of 10, and replace the max with 1\n",
    "z = np.random.random(10)\n",
    "z[z.argmax()] = 1\n",
    "z"
   ]
  },
  {
   "cell_type": "code",
   "execution_count": 119,
   "metadata": {},
   "outputs": [
    {
     "data": {
      "text/plain": [
       "<AxesSubplot:>"
      ]
     },
     "execution_count": 119,
     "metadata": {},
     "output_type": "execute_result"
    },
    {
     "data": {
      "image/png": "[encoded data removed]",
      "text/plain": [
       "<Figure size 432x288 with 1 Axes>"
      ]
     },
     "metadata": {
      "needs_background": "light"
     },
     "output_type": "display_data"
    }
   ],
   "source": [
    "# 46 create a structured array, (x, y) coordinates covering [0, 1] x [1, 0]\n",
    "z = np.zeros((5, 5), [('x', float), ('y', float)])\n",
    "z['x'], z['y'] = np.meshgrid(np.linspace(0, 1, 5),\n",
    "                             np.linspace(0, 1, 5))\n",
    "import seaborn as sns\n",
    "sns.scatterplot(x=z['x'].flatten(), y=z['y'].flatten())"
   ]
  },
  {
   "cell_type": "code",
   "execution_count": 123,
   "metadata": {},
   "outputs": [
    {
     "name": "stdout",
     "output_type": "stream",
     "text": [
      "[[-2.         -0.66666667 -0.4        -0.28571429]\n",
      " [ 2.         -2.         -0.66666667 -0.4       ]\n",
      " [ 0.66666667  2.         -2.         -0.66666667]\n",
      " [ 0.4         0.66666667  2.         -2.        ]]\n"
     ]
    },
    {
     "data": {
      "text/plain": [
       "44.38416931216933"
      ]
     },
     "execution_count": 123,
     "metadata": {},
     "output_type": "execute_result"
    }
   ],
   "source": [
    "# 47 given array x and y, create Cauchy matrix c (Cij = 1/(Xi - Yj))\n",
    "x = np.arange(4)\n",
    "y = x + 0.5\n",
    "c = 1.0 / np.subtract.outer(x, y)\n",
    "print(c)\n",
    "np.linalg.det(c)"
   ]
  },
  {
   "cell_type": "code",
   "execution_count": 124,
   "metadata": {},
   "outputs": [
    {
     "name": "stdout",
     "output_type": "stream",
     "text": [
      "-128\n",
      "127\n",
      "-2147483648\n",
      "2147483647\n",
      "-9223372036854775808\n",
      "9223372036854775807\n",
      "-3.4028235e+38\n",
      "3.4028235e+38\n",
      "1.1920929e-07\n",
      "-1.7976931348623157e+308\n",
      "1.7976931348623157e+308\n",
      "2.220446049250313e-16\n"
     ]
    }
   ],
   "source": [
    "# 48 get the min and max of every dtype in numpy\n",
    "for dtype in [np.int8, np.int32, np.int64]:\n",
    "    print(np.iinfo(dtype).min)\n",
    "    print(np.iinfo(dtype).max)\n",
    "for dtype in [np.float32, np.float64]:\n",
    "    print(np.finfo(dtype).min)\n",
    "    print(np.finfo(dtype).max)\n",
    "    print(np.finfo(dtype).eps)"
   ]
  },
  {
   "cell_type": "code",
   "execution_count": 149,
   "metadata": {},
   "outputs": [
    {
     "name": "stdout",
     "output_type": "stream",
     "text": [
      "[[0. 0. 0. ... 0. 0. 0.]\n",
      " [0. 0. 0. ... 0. 0. 0.]\n",
      " [0. 0. 0. ... 0. 0. 0.]\n",
      " ...\n",
      " [0. 0. 0. ... 0. 0. 0.]\n",
      " [0. 0. 0. ... 0. 0. 0.]\n",
      " [0. 0. 0. ... 0. 0. 0.]]\n",
      "[[0. 0. 0. 0. 0. 0. 0. 0. 0. 0. 0. 0. 0. 0. 0. 0. 0. 0. 0. 0. 0. 0. 0. 0.]\n",
      " [0. 0. 0. 0. 0. 0. 0. 0. 0. 0. 0. 0. 0. 0. 0. 0. 0. 0. 0. 0. 0. 0. 0. 0.]\n",
      " [0. 0. 0. 0. 0. 0. 0. 0. 0. 0. 0. 0. 0. 0. 0. 0. 0. 0. 0. 0. 0. 0. 0. 0.]\n",
      " [0. 0. 0. 0. 0. 0. 0. 0. 0. 0. 0. 0. 0. 0. 0. 0. 0. 0. 0. 0. 0. 0. 0. 0.]\n",
      " [0. 0. 0. 0. 0. 0. 0. 0. 0. 0. 0. 0. 0. 0. 0. 0. 0. 0. 0. 0. 0. 0. 0. 0.]\n",
      " [0. 0. 0. 0. 0. 0. 0. 0. 0. 0. 0. 0. 0. 0. 0. 0. 0. 0. 0. 0. 0. 0. 0. 0.]\n",
      " [0. 0. 0. 0. 0. 0. 0. 0. 0. 0. 0. 0. 0. 0. 0. 0. 0. 0. 0. 0. 0. 0. 0. 0.]\n",
      " [0. 0. 0. 0. 0. 0. 0. 0. 0. 0. 0. 0. 0. 0. 0. 0. 0. 0. 0. 0. 0. 0. 0. 0.]\n",
      " [0. 0. 0. 0. 0. 0. 0. 0. 0. 0. 0. 0. 0. 0. 0. 0. 0. 0. 0. 0. 0. 0. 0. 0.]\n",
      " [0. 0. 0. 0. 0. 0. 0. 0. 0. 0. 0. 0. 0. 0. 0. 0. 0. 0. 0. 0. 0. 0. 0. 0.]\n",
      " [0. 0. 0. 0. 0. 0. 0. 0. 0. 0. 0. 0. 0. 0. 0. 0. 0. 0. 0. 0. 0. 0. 0. 0.]\n",
      " [0. 0. 0. 0. 0. 0. 0. 0. 0. 0. 0. 0. 0. 0. 0. 0. 0. 0. 0. 0. 0. 0. 0. 0.]\n",
      " [0. 0. 0. 0. 0. 0. 0. 0. 0. 0. 0. 0. 0. 0. 0. 0. 0. 0. 0. 0. 0. 0. 0. 0.]\n",
      " [0. 0. 0. 0. 0. 0. 0. 0. 0. 0. 0. 0. 0. 0. 0. 0. 0. 0. 0. 0. 0. 0. 0. 0.]\n",
      " [0. 0. 0. 0. 0. 0. 0. 0. 0. 0. 0. 0. 0. 0. 0. 0. 0. 0. 0. 0. 0. 0. 0. 0.]\n",
      " [0. 0. 0. 0. 0. 0. 0. 0. 0. 0. 0. 0. 0. 0. 0. 0. 0. 0. 0. 0. 0. 0. 0. 0.]\n",
      " [0. 0. 0. 0. 0. 0. 0. 0. 0. 0. 0. 0. 0. 0. 0. 0. 0. 0. 0. 0. 0. 0. 0. 0.]\n",
      " [0. 0. 0. 0. 0. 0. 0. 0. 0. 0. 0. 0. 0. 0. 0. 0. 0. 0. 0. 0. 0. 0. 0. 0.]\n",
      " [0. 0. 0. 0. 0. 0. 0. 0. 0. 0. 0. 0. 0. 0. 0. 0. 0. 0. 0. 0. 0. 0. 0. 0.]\n",
      " [0. 0. 0. 0. 0. 0. 0. 0. 0. 0. 0. 0. 0. 0. 0. 0. 0. 0. 0. 0. 0. 0. 0. 0.]\n",
      " [0. 0. 0. 0. 0. 0. 0. 0. 0. 0. 0. 0. 0. 0. 0. 0. 0. 0. 0. 0. 0. 0. 0. 0.]\n",
      " [0. 0. 0. 0. 0. 0. 0. 0. 0. 0. 0. 0. 0. 0. 0. 0. 0. 0. 0. 0. 0. 0. 0. 0.]\n",
      " [0. 0. 0. 0. 0. 0. 0. 0. 0. 0. 0. 0. 0. 0. 0. 0. 0. 0. 0. 0. 0. 0. 0. 0.]\n",
      " [0. 0. 0. 0. 0. 0. 0. 0. 0. 0. 0. 0. 0. 0. 0. 0. 0. 0. 0. 0. 0. 0. 0. 0.]\n",
      " [0. 0. 0. 0. 0. 0. 0. 0. 0. 0. 0. 0. 0. 0. 0. 0. 0. 0. 0. 0. 0. 0. 0. 0.]\n",
      " [0. 0. 0. 0. 0. 0. 0. 0. 0. 0. 0. 0. 0. 0. 0. 0. 0. 0. 0. 0. 0. 0. 0. 0.]\n",
      " [0. 0. 0. 0. 0. 0. 0. 0. 0. 0. 0. 0. 0. 0. 0. 0. 0. 0. 0. 0. 0. 0. 0. 0.]\n",
      " [0. 0. 0. 0. 0. 0. 0. 0. 0. 0. 0. 0. 0. 0. 0. 0. 0. 0. 0. 0. 0. 0. 0. 0.]\n",
      " [0. 0. 0. 0. 0. 0. 0. 0. 0. 0. 0. 0. 0. 0. 0. 0. 0. 0. 0. 0. 0. 0. 0. 0.]\n",
      " [0. 0. 0. 0. 0. 0. 0. 0. 0. 0. 0. 0. 0. 0. 0. 0. 0. 0. 0. 0. 0. 0. 0. 0.]\n",
      " [0. 0. 0. 0. 0. 0. 0. 0. 0. 0. 0. 0. 0. 0. 0. 0. 0. 0. 0. 0. 0. 0. 0. 0.]\n",
      " [0. 0. 0. 0. 0. 0. 0. 0. 0. 0. 0. 0. 0. 0. 0. 0. 0. 0. 0. 0. 0. 0. 0. 0.]\n",
      " [0. 0. 0. 0. 0. 0. 0. 0. 0. 0. 0. 0. 0. 0. 0. 0. 0. 0. 0. 0. 0. 0. 0. 0.]\n",
      " [0. 0. 0. 0. 0. 0. 0. 0. 0. 0. 0. 0. 0. 0. 0. 0. 0. 0. 0. 0. 0. 0. 0. 0.]\n",
      " [0. 0. 0. 0. 0. 0. 0. 0. 0. 0. 0. 0. 0. 0. 0. 0. 0. 0. 0. 0. 0. 0. 0. 0.]\n",
      " [0. 0. 0. 0. 0. 0. 0. 0. 0. 0. 0. 0. 0. 0. 0. 0. 0. 0. 0. 0. 0. 0. 0. 0.]\n",
      " [0. 0. 0. 0. 0. 0. 0. 0. 0. 0. 0. 0. 0. 0. 0. 0. 0. 0. 0. 0. 0. 0. 0. 0.]\n",
      " [0. 0. 0. 0. 0. 0. 0. 0. 0. 0. 0. 0. 0. 0. 0. 0. 0. 0. 0. 0. 0. 0. 0. 0.]\n",
      " [0. 0. 0. 0. 0. 0. 0. 0. 0. 0. 0. 0. 0. 0. 0. 0. 0. 0. 0. 0. 0. 0. 0. 0.]\n",
      " [0. 0. 0. 0. 0. 0. 0. 0. 0. 0. 0. 0. 0. 0. 0. 0. 0. 0. 0. 0. 0. 0. 0. 0.]\n",
      " [0. 0. 0. 0. 0. 0. 0. 0. 0. 0. 0. 0. 0. 0. 0. 0. 0. 0. 0. 0. 0. 0. 0. 0.]\n",
      " [0. 0. 0. 0. 0. 0. 0. 0. 0. 0. 0. 0. 0. 0. 0. 0. 0. 0. 0. 0. 0. 0. 0. 0.]]\n"
     ]
    }
   ],
   "source": [
    "# 49 print all values in an array\n",
    "z = np.zeros((42, 24))\n",
    "np.set_printoptions(threshold=200)\n",
    "print(z)\n",
    "import sys\n",
    "np.set_printoptions(threshold=sys.maxsize)\n",
    "print(z)"
   ]
  },
  {
   "cell_type": "code",
   "execution_count": 150,
   "metadata": {},
   "outputs": [
    {
     "name": "stdout",
     "output_type": "stream",
     "text": [
      "[0 1 2 3 4 5 6 7 8 9]\n",
      "7.396700795869289\n",
      "7\n"
     ]
    },
    {
     "data": {
      "text/plain": [
       "7"
      ]
     },
     "execution_count": 150,
     "metadata": {},
     "output_type": "execute_result"
    }
   ],
   "source": [
    "# 50 find the number in an array closest to a given number \n",
    "z = np.arange(10)\n",
    "v = np.random.uniform(0, 10)\n",
    "idx = np.abs(z-v).argmin()\n",
    "print(z)\n",
    "print(v)\n",
    "print(idx)\n",
    "z[idx]"
   ]
  },
  {
   "cell_type": "code",
   "execution_count": 151,
   "metadata": {},
   "outputs": [
    {
     "data": {
      "text/plain": [
       "array([((0., 0.), (0., 0., 0.)), ((0., 0.), (0., 0., 0.)),\n",
       "       ((0., 0.), (0., 0., 0.)), ((0., 0.), (0., 0., 0.)),\n",
       "       ((0., 0.), (0., 0., 0.)), ((0., 0.), (0., 0., 0.)),\n",
       "       ((0., 0.), (0., 0., 0.)), ((0., 0.), (0., 0., 0.)),\n",
       "       ((0., 0.), (0., 0., 0.)), ((0., 0.), (0., 0., 0.))],\n",
       "      dtype=[('position', [('x', '<f8'), ('y', '<f8')]), ('color', [('r', '<f8'), ('g', '<f8'), ('b', '<f8')])])"
      ]
     },
     "execution_count": 151,
     "metadata": {},
     "output_type": "execute_result"
    }
   ],
   "source": [
    "# 51 create a structered array to represent location (x, y) and color (r, g, b)\n",
    "z = np.zeros(10, [('position', [('x', float, 1),\n",
    "                                ('y', float, 1)]),\n",
    "                  ('color', [('r', float, 1),\n",
    "                             ('g', float, 1),\n",
    "                             ('b', float, 1)])])\n",
    "z"
   ]
  },
  {
   "cell_type": "code",
   "execution_count": 159,
   "metadata": {},
   "outputs": [
    {
     "data": {
      "text/plain": [
       "array([[0.        , 1.30129635, 0.84456161, 1.13572357, 1.21836462,\n",
       "        0.92703343, 0.49546991, 0.79251919, 1.19154539, 1.13038234],\n",
       "       [1.30129635, 0.        , 0.93928367, 0.17858683, 0.09536122,\n",
       "        0.73072744, 0.81571345, 0.6491035 , 0.11498198, 0.18287827],\n",
       "       [0.84456161, 0.93928367, 0.        , 0.77373855, 0.84618021,\n",
       "        1.13214089, 0.69307518, 0.33305063, 0.83536659, 0.77136565],\n",
       "       [1.13572357, 0.17858683, 0.77373855, 0.        , 0.08521446,\n",
       "        0.67338514, 0.65980057, 0.4728334 , 0.06435091, 0.00557429],\n",
       "       [1.21836462, 0.09536122, 0.84618021, 0.08521446, 0.        ,\n",
       "        0.70796938, 0.73858975, 0.55374277, 0.02932934, 0.09002797],\n",
       "       [0.92703343, 0.73072744, 1.13214089, 0.67338514, 0.70796938,\n",
       "        0.        , 0.51643092, 0.81722693, 0.68164791, 0.66900804],\n",
       "       [0.49546991, 0.81571345, 0.69307518, 0.65980057, 0.73858975,\n",
       "        0.51643092, 0.        , 0.45510977, 0.71046001, 0.65427381],\n",
       "       [0.79251919, 0.6491035 , 0.33305063, 0.4728334 , 0.55374277,\n",
       "        0.81722693, 0.45510977, 0.        , 0.53705677, 0.46935031],\n",
       "       [1.19154539, 0.11498198, 0.83536659, 0.06435091, 0.02932934,\n",
       "        0.68164791, 0.71046001, 0.53705677, 0.        , 0.06825965],\n",
       "       [1.13038234, 0.18287827, 0.77136565, 0.00557429, 0.09002797,\n",
       "        0.66900804, 0.65427381, 0.46935031, 0.06825965, 0.        ]])"
      ]
     },
     "execution_count": 159,
     "metadata": {},
     "output_type": "execute_result"
    }
   ],
   "source": [
    "# 52 for a array with shape of (10, 2) that represents coordinates, find the distance between points\n",
    "# (1)\n",
    "z = np.random.random((10, 2))\n",
    "x, y = np.atleast_2d(z[:, 0], z[:, 1])\n",
    "d1 = np.sqrt((x-x.T)**2 + (y-y.T)**2)\n",
    "# (2)\n",
    "import scipy.spatial\n",
    "d2 = scipy.spatial.distance.cdist(z, z)\n",
    "d2"
   ]
  },
  {
   "cell_type": "code",
   "execution_count": 163,
   "metadata": {},
   "outputs": [
    {
     "data": {
      "text/plain": [
       "array([0, 1, 2, 3, 4, 5, 6, 7, 8, 9])"
      ]
     },
     "execution_count": 163,
     "metadata": {},
     "output_type": "execute_result"
    }
   ],
   "source": [
    "# 53 how to convert a float32 into integer\n",
    "z = np.arange(10, dtype=np.float32)\n",
    "z = z.astype(np.int32, copy=False)\n",
    "z"
   ]
  },
  {
   "cell_type": "code",
   "execution_count": 164,
   "metadata": {},
   "outputs": [
    {
     "name": "stdout",
     "output_type": "stream",
     "text": [
      "(0, 0) 0\n",
      "(0, 1) 1\n",
      "(0, 2) 2\n",
      "(0, 3) 3\n",
      "(1, 0) 4\n",
      "(1, 1) 5\n",
      "(1, 2) 6\n",
      "(1, 3) 7\n",
      "(2, 0) 8\n",
      "(2, 1) 9\n",
      "(2, 2) 10\n",
      "(2, 3) 11\n",
      "(0, 0) 0\n",
      "(0, 1) 1\n",
      "(0, 2) 2\n",
      "(0, 3) 3\n",
      "(1, 0) 4\n",
      "(1, 1) 5\n",
      "(1, 2) 6\n",
      "(1, 3) 7\n",
      "(2, 0) 8\n",
      "(2, 1) 9\n",
      "(2, 2) 10\n",
      "(2, 3) 11\n"
     ]
    }
   ],
   "source": [
    "# 55 for a numpy array, what's equal to enumerate\n",
    "z = np.arange(12).reshape(3, 4)\n",
    "for index, value in np.ndenumerate(z):\n",
    "    print(index, value)\n",
    "for index in np.ndindex(z.shape):\n",
    "    print(index, z[index])"
   ]
  },
  {
   "cell_type": "code",
   "execution_count": 175,
   "metadata": {},
   "outputs": [
    {
     "data": {
      "text/plain": [
       "array([[0.36787944, 0.44822088, 0.51979489, 0.57375342, 0.60279818,\n",
       "        0.60279818, 0.57375342, 0.51979489, 0.44822088, 0.36787944],\n",
       "       [0.44822088, 0.54610814, 0.63331324, 0.69905581, 0.73444367,\n",
       "        0.73444367, 0.69905581, 0.63331324, 0.54610814, 0.44822088],\n",
       "       [0.51979489, 0.63331324, 0.73444367, 0.81068432, 0.85172308,\n",
       "        0.85172308, 0.81068432, 0.73444367, 0.63331324, 0.51979489],\n",
       "       [0.57375342, 0.69905581, 0.81068432, 0.89483932, 0.9401382 ,\n",
       "        0.9401382 , 0.89483932, 0.81068432, 0.69905581, 0.57375342],\n",
       "       [0.60279818, 0.73444367, 0.85172308, 0.9401382 , 0.98773022,\n",
       "        0.98773022, 0.9401382 , 0.85172308, 0.73444367, 0.60279818],\n",
       "       [0.60279818, 0.73444367, 0.85172308, 0.9401382 , 0.98773022,\n",
       "        0.98773022, 0.9401382 , 0.85172308, 0.73444367, 0.60279818],\n",
       "       [0.57375342, 0.69905581, 0.81068432, 0.89483932, 0.9401382 ,\n",
       "        0.9401382 , 0.89483932, 0.81068432, 0.69905581, 0.57375342],\n",
       "       [0.51979489, 0.63331324, 0.73444367, 0.81068432, 0.85172308,\n",
       "        0.85172308, 0.81068432, 0.73444367, 0.63331324, 0.51979489],\n",
       "       [0.44822088, 0.54610814, 0.63331324, 0.69905581, 0.73444367,\n",
       "        0.73444367, 0.69905581, 0.63331324, 0.54610814, 0.44822088],\n",
       "       [0.36787944, 0.44822088, 0.51979489, 0.57375342, 0.60279818,\n",
       "        0.60279818, 0.57375342, 0.51979489, 0.44822088, 0.36787944]])"
      ]
     },
     "execution_count": 175,
     "metadata": {},
     "output_type": "execute_result"
    }
   ],
   "source": [
    "# 56 create a general 2d Gaussian-like array\n",
    "x, y = np.meshgrid(np.linspace(-1, 1, 10), np.linspace(-1, 1, 10))\n",
    "d = np.sqrt(x*x + y*y)\n",
    "sigma, mu = 1, 0\n",
    "g = np.exp(-((d-mu)**2/(2*sigma**2)))\n",
    "g"
   ]
  },
  {
   "cell_type": "code",
   "execution_count": 181,
   "metadata": {},
   "outputs": [
    {
     "data": {
      "text/plain": [
       "array([[  0.,   0.,   0.,   0.,   0.,   0.,   0.,   0.,   0.,   0.],\n",
       "       [  0.,   0.,   0.,   0.,   0.,   0.,   0.,   0.,   0.,   0.],\n",
       "       [  0.,   0.,   0.,   0.,   0.,   0.,   0.,   0.,   0.,   0.],\n",
       "       [  0.,   0.,   0.,   0.,   0.,   0.,   0.,   0.,   0.,   0.],\n",
       "       [  0.,   0.,   0.,   0.,   0., 999.,   0.,   0.,   0.,   0.],\n",
       "       [  0.,   0.,   0.,   0.,   0.,   0., 999.,   0.,   0.,   0.],\n",
       "       [  0.,   0.,   0.,   0.,   0.,   0.,   0.,   0.,   0.,   0.],\n",
       "       [  0.,   0.,   0.,   0., 999.,   0.,   0.,   0.,   0.,   0.],\n",
       "       [  0., 999.,   0., 999.,   0.,   0.,   0.,   0.,   0.,   0.],\n",
       "       [  0.,   0.,   0.,   0.,   0.,   0.,   0.,   0.,   0.,   0.]])"
      ]
     },
     "execution_count": 181,
     "metadata": {},
     "output_type": "execute_result"
    }
   ],
   "source": [
    "# 57 for a 2d array, how to put p elements in it randomly\n",
    "n = 10\n",
    "p = 5\n",
    "z = np.zeros((n, n))\n",
    "np.put(z, np.random.choice(range(n*n), p, replace=False), 999)\n",
    "z"
   ]
  },
  {
   "cell_type": "code",
   "execution_count": 194,
   "metadata": {},
   "outputs": [
    {
     "name": "stdout",
     "output_type": "stream",
     "text": [
      "[[ 0  1  2  3]\n",
      " [ 4  5  6  7]\n",
      " [ 8  9 10 11]]\n",
      "[[-1.5 -0.5  0.5  1.5]\n",
      " [-1.5 -0.5  0.5  1.5]\n",
      " [-1.5 -0.5  0.5  1.5]]\n",
      "[[-1.5 -0.5  0.5  1.5]\n",
      " [-1.5 -0.5  0.5  1.5]\n",
      " [-1.5 -0.5  0.5  1.5]]\n"
     ]
    }
   ],
   "source": [
    "# 58 substract the average of each row from a matrix\n",
    "x = np.arange(12).reshape(3, 4) \n",
    "print(x)\n",
    "y = x - x.mean(axis=1, keepdims=True)\n",
    "print(y)\n",
    "z = x - x.mean(axis=1).reshape(-1, 1)\n",
    "print(z)"
   ]
  },
  {
   "cell_type": "code",
   "execution_count": 204,
   "metadata": {},
   "outputs": [
    {
     "name": "stdout",
     "output_type": "stream",
     "text": [
      "[[13 11  2 10  3]\n",
      " [ 4 11  2  4 11]\n",
      " [ 2  6 12  1  0]]\n",
      "[10  4  1]\n",
      "[2 1 0]\n",
      "[[ 2  6 12  1  0]\n",
      " [ 4 11  2  4 11]\n",
      " [13 11  2 10  3]]\n"
     ]
    }
   ],
   "source": [
    "# 59 how to sort an array by nth column\n",
    "z = np.random.randint(0, 15, (3,5))\n",
    "print(z)\n",
    "n = 3\n",
    "print(z[:,n])\n",
    "z[:,n].argsort()\n",
    "print(z[:,n].argsort())\n",
    "print(z[z[:,n].argsort()])"
   ]
  },
  {
   "cell_type": "code",
   "execution_count": 218,
   "metadata": {},
   "outputs": [
    {
     "name": "stdout",
     "output_type": "stream",
     "text": [
      "[[1 0 0 1 1]\n",
      " [1 0 1 1 1]\n",
      " [1 0 0 0 1]\n",
      " [0 0 0 0 1]]\n",
      "[ True False  True  True  True]\n",
      "[False  True False False False]\n",
      "True\n",
      "False\n"
     ]
    }
   ],
   "source": [
    "# 60 how to check if there are empty column in a 2d array\n",
    "z = np.array([[1, 0, 0, 1, 1],\n",
    "              [1, 0, 1, 1, 1],\n",
    "              [1, 0, 0, 0, 1],\n",
    "              [0, 0, 0, 0, 1]])\n",
    "print(z)\n",
    "# find columns with non-zero\n",
    "print(z.any(axis=0))\n",
    "# find the column with all 0\n",
    "print(~z.any(axis=0))\n",
    "# find if there is any column with all 0\n",
    "print((~z.any(axis=0)).any())\n",
    "\n",
    "# find if there is any row with all 0\n",
    "print((~z.any(axis=1)).any())"
   ]
  },
  {
   "cell_type": "code",
   "execution_count": 221,
   "metadata": {},
   "outputs": [
    {
     "name": "stdout",
     "output_type": "stream",
     "text": [
      "[0.57423277 0.10774117 0.01006911 0.30243997 0.70488015 0.54820928\n",
      " 0.90153782 0.06077791 0.63614509 0.98752559]\n",
      "0.5 0.5482092768484342\n"
     ]
    }
   ],
   "source": [
    "# 61 find the value closest to a given value in the array\n",
    "z = np.random.uniform(0, 1, 10)\n",
    "a = 0.5\n",
    "m = z[np.abs(z - a).argmin()]\n",
    "print(z)\n",
    "print(a, m)"
   ]
  },
  {
   "cell_type": "code",
   "execution_count": 226,
   "metadata": {},
   "outputs": [
    {
     "name": "stdout",
     "output_type": "stream",
     "text": [
      "[[         0          0 1994170608]\n",
      " [     32763          2          0]\n",
      " [        -1         -1 1073741824]]\n",
      "[[         0          1 1994170608]\n",
      " [     32763          2          0]\n",
      " [        -1         -1 1073741824]]\n",
      "[[         0          1          2]\n",
      " [     32763          2          0]\n",
      " [        -1         -1 1073741824]]\n",
      "[[         0          1          2]\n",
      " [         1          2          0]\n",
      " [        -1         -1 1073741824]]\n",
      "[[         0          1          2]\n",
      " [         1          2          0]\n",
      " [        -1         -1 1073741824]]\n",
      "[[         0          1          2]\n",
      " [         1          2          3]\n",
      " [        -1         -1 1073741824]]\n",
      "[[         0          1          2]\n",
      " [         1          2          3]\n",
      " [         2         -1 1073741824]]\n",
      "[[         0          1          2]\n",
      " [         1          2          3]\n",
      " [         2          3 1073741824]]\n",
      "[[0 1 2]\n",
      " [1 2 3]\n",
      " [2 3 4]]\n"
     ]
    }
   ],
   "source": [
    "# 61\n",
    "a = np.arange(3).reshape(3, 1)\n",
    "b = np.arange(3).reshape(1, 3)\n",
    "it = np.nditer([a, b, None])\n",
    "for x, y, z in it:\n",
    "    z[...] = x + y\n",
    "    print(it.operands[2])"
   ]
  },
  {
   "cell_type": "code",
   "execution_count": 230,
   "metadata": {},
   "outputs": [
    {
     "name": "stdout",
     "output_type": "stream",
     "text": [
      "[0 1 2 3 4 5 6 7 8 9]\n",
      "range_10\n"
     ]
    }
   ],
   "source": [
    "# 63 create an array class with attribute name\n",
    "class NamedArray(np.ndarray):\n",
    "    def __new__(cls, array, name=\"no name\"):\n",
    "        obj = np.asarray(array).view(cls)\n",
    "        obj.name = name\n",
    "        return obj\n",
    "    def __array__finalize__(self, obj):\n",
    "        if obj is None: return\n",
    "        self.info = getattr(obj, 'name', 'no name')\n",
    "\n",
    "z = NamedArray(np.arange(10), \"range_10\")\n",
    "print(z)\n",
    "print(z.name)"
   ]
  },
  {
   "cell_type": "code",
   "execution_count": 242,
   "metadata": {},
   "outputs": [
    {
     "name": "stdout",
     "output_type": "stream",
     "text": [
      "[3 4 5 8 6 4 8 3 4 9 4 4 8 7 3 6 5 5 2 9]\n",
      "[1. 1. 2. 4. 6. 4. 3. 2. 4. 3.]\n"
     ]
    }
   ],
   "source": [
    "# 64 given an array, add 1 for each element with a 2nd array of index\n",
    "z = np.ones(10)\n",
    "i = np.random.randint(0, len(z), 20)\n",
    "z += np.bincount(i, minlength=len(z))\n",
    "print(i)\n",
    "print(z)"
   ]
  },
  {
   "cell_type": "code",
   "execution_count": 248,
   "metadata": {},
   "outputs": [
    {
     "name": "stdout",
     "output_type": "stream",
     "text": [
      "[1 1 1 1 1]\n",
      "[ 0  1  1  3  2  1  7 23]\n",
      "[1 3 1 1 0 0 0 1 0 0 0 0 0 0 0 0 0 0 0 0 0 0 0 1]\n",
      "[0. 1. 3. 9. 3. 4. 1.]\n",
      "[0. 7. 0. 6. 5. 0. 0. 0. 0. 3.]\n"
     ]
    }
   ],
   "source": [
    "# 65 np.bincount(x, weights=None, minlength=0)\n",
    "a = np.bincount(np.arange(5))\n",
    "print(a)\n",
    "b = np.array([0, 1, 1, 3, 2, 1, 7, 23])\n",
    "c = np.bincount(b)\n",
    "print(b)\n",
    "print(c)\n",
    "\n",
    "x = [1, 2, 3, 4, 5, 6]\n",
    "i = [1, 3, 9, 3, 4, 1]\n",
    "print(np.bincount(x, i))\n",
    "print(np.bincount(i, x))"
   ]
  },
  {
   "cell_type": "code",
   "execution_count": 255,
   "metadata": {},
   "outputs": [
    {
     "name": "stdout",
     "output_type": "stream",
     "text": [
      "(16, 16, 3)\n",
      "(16, 3)\n",
      "(16, 16)\n",
      "(16, 16)\n"
     ]
    }
   ],
   "source": [
    "# 66 consider an image (dtype=ubyte) of (w, h, 3), how many colors are unique\n",
    "w, h =16, 16\n",
    "i = np.random.randint(0, 2, (h, w, 3)).astype(np.ubyte)\n",
    "print(i.shape)\n",
    "print(i[:, 0].shape)\n",
    "print(i[..., 0].shape)\n",
    "f = i[..., 0]*(256*256) + i[..., 1]*256 + i[..., 2]\n",
    "print(f.shape)\n",
    "len(np.unique(f))"
   ]
  },
  {
   "cell_type": "code",
   "execution_count": 258,
   "metadata": {},
   "outputs": [
    {
     "name": "stdout",
     "output_type": "stream",
     "text": [
      "[[82 68 78 67]\n",
      " [85 76 72 74]]\n"
     ]
    }
   ],
   "source": [
    "# 67 consider a 4d array, how to calculate the sum of last two axis\n",
    "a = np.random.randint(0, 10, (2, 4, 3, 5))\n",
    "print(a.sum(axis=(-2, -1)))"
   ]
  },
  {
   "cell_type": "code",
   "execution_count": 265,
   "metadata": {},
   "outputs": [
    {
     "name": "stdout",
     "output_type": "stream",
     "text": [
      "[6.57812107 4.61948737 7.44872909 6.49164016 4.28845103 5.1767337\n",
      " 4.35995305 3.88850658 6.81761013 3.57907477]\n",
      "[15  8 11 12 10 11  9  7 11  6]\n",
      "[0.4385414  0.57743592 0.67715719 0.54097001 0.4288451  0.47061215\n",
      " 0.48443923 0.55550094 0.61978274 0.59651246]\n"
     ]
    }
   ],
   "source": [
    "# 68 \n",
    "d = np.random.uniform(0, 1, 100)\n",
    "s = np.random.randint(0, 10, 100)\n",
    "d_sums = np.bincount(s, weights=d)\n",
    "d_counts = np.bincount(s)\n",
    "d_means = d_sums / d_counts\n",
    "print(d_sums)\n",
    "print(d_counts)\n",
    "print(d_means)"
   ]
  },
  {
   "cell_type": "code",
   "execution_count": 269,
   "metadata": {},
   "outputs": [
    {
     "name": "stdout",
     "output_type": "stream",
     "text": [
      "[135  63 108 267 158]\n",
      "[[ 7 20 48 42 18]\n",
      " [ 0 16  2 45  0]\n",
      " [14 36  6 28 24]\n",
      " [72 56 12 63 64]\n",
      " [ 0 63 20 12 63]]\n",
      "[135  63 108 267 158]\n",
      "[135  63 108 267 158]\n"
     ]
    }
   ],
   "source": [
    "# 69 how to obtain the diaganol of dot product\n",
    "a = np.random.randint(0, 10, (5, 5))\n",
    "b = np.random.randint(0, 10, (5, 5))\n",
    "# slow version\n",
    "print(np.diag(np.dot(a, b)))\n",
    "\n",
    "# fast version\n",
    "print(a * b.T)\n",
    "print(np.sum(a * b.T, axis=1))\n",
    "\n",
    "# faster version\n",
    "print(np.einsum(\"ij, ji->i\", a, b))"
   ]
  },
  {
   "cell_type": "code",
   "execution_count": 273,
   "metadata": {},
   "outputs": [
    {
     "data": {
      "text/plain": [
       "array([1., 0., 0., 0., 2., 0., 0., 0., 3., 0., 0., 0., 4., 0., 0., 0., 5.])"
      ]
     },
     "execution_count": 273,
     "metadata": {},
     "output_type": "execute_result"
    }
   ],
   "source": [
    "# 70 consider a vector[1, 2, 3, 4, 5], create a new vector with 3  0s between each value\n",
    "z = np.array([1, 2, 3, 4, 5])\n",
    "n = 3\n",
    "z0 = np.zeros(len(z) + (len(z)-1)*n)\n",
    "z0[::n+1] = z\n",
    "z0"
   ]
  },
  {
   "cell_type": "code",
   "execution_count": 275,
   "metadata": {},
   "outputs": [
    {
     "data": {
      "text/plain": [
       "array([[[2., 2., 2.],\n",
       "        [2., 2., 2.],\n",
       "        [2., 2., 2.],\n",
       "        [2., 2., 2.],\n",
       "        [2., 2., 2.]],\n",
       "\n",
       "       [[2., 2., 2.],\n",
       "        [2., 2., 2.],\n",
       "        [2., 2., 2.],\n",
       "        [2., 2., 2.],\n",
       "        [2., 2., 2.]],\n",
       "\n",
       "       [[2., 2., 2.],\n",
       "        [2., 2., 2.],\n",
       "        [2., 2., 2.],\n",
       "        [2., 2., 2.],\n",
       "        [2., 2., 2.]],\n",
       "\n",
       "       [[2., 2., 2.],\n",
       "        [2., 2., 2.],\n",
       "        [2., 2., 2.],\n",
       "        [2., 2., 2.],\n",
       "        [2., 2., 2.]],\n",
       "\n",
       "       [[2., 2., 2.],\n",
       "        [2., 2., 2.],\n",
       "        [2., 2., 2.],\n",
       "        [2., 2., 2.],\n",
       "        [2., 2., 2.]]])"
      ]
     },
     "execution_count": 275,
     "metadata": {},
     "output_type": "execute_result"
    }
   ],
   "source": [
    "# 71 consider a array (5, 5, 3), how to multuply it with an array (5, 5)\n",
    "a = np.ones((5, 5, 3))\n",
    "b = 2 * np.ones((5, 5))\n",
    "a * b[:,:,None]"
   ]
  },
  {
   "cell_type": "code",
   "execution_count": 280,
   "metadata": {},
   "outputs": [
    {
     "name": "stdout",
     "output_type": "stream",
     "text": [
      "[[ 3  4  5]\n",
      " [ 3  4  5]\n",
      " [ 6  7  8]\n",
      " [ 9 10 11]]\n",
      "[[ 3  4  5]\n",
      " [ 0  1  2]\n",
      " [ 6  7  8]\n",
      " [ 9 10 11]]\n",
      "[[ 2  1  0]\n",
      " [ 5  4  3]\n",
      " [ 8  7  6]\n",
      " [11 10  9]]\n"
     ]
    }
   ],
   "source": [
    "# 72 how to switch any two rows in an array\n",
    "a = np.arange(12).reshape(4, 3)\n",
    "# wrong\n",
    "a[0], a[1] = a[1], a[0]\n",
    "print(a)\n",
    "\n",
    "# correct\n",
    "b = np.arange(12).reshape(4, 3)\n",
    "b[[0, 1]] = b[[1, 0]]\n",
    "print(b)\n",
    "\n",
    "# similarly, switch any two columns in an array\n",
    "c = np.arange(12).reshape(4, 3)\n",
    "c[:, [0, 2]] = c[:, [2, 0]]\n",
    "print(c)"
   ]
  },
  {
   "cell_type": "code",
   "execution_count": 293,
   "metadata": {},
   "outputs": [
    {
     "data": {
      "text/plain": [
       "array([( 6, 25), ( 6, 92), (12, 21), (12, 92), (15, 57), (15, 71),\n",
       "       (15, 76), (15, 98), (16, 62), (16, 76), (19, 20), (19, 75),\n",
       "       (20, 75), (21, 92), (24, 57), (24, 89), (25, 92), (33, 53),\n",
       "       (33, 93), (50, 68), (50, 93), (53, 93), (56, 88), (56, 91),\n",
       "       (57, 71), (57, 89), (62, 76), (68, 93), (76, 98), (88, 91)],\n",
       "      dtype=[('p0', '<i4'), ('p1', '<i4')])"
      ]
     },
     "execution_count": 293,
     "metadata": {},
     "output_type": "execute_result"
    }
   ],
   "source": [
    "# 73 consider a set of 10 triplets describing 10 triangles (with shared vertices),\n",
    "# dind the set of unique line segments composing all the triangles\n",
    "faces = np.random.randint(0, 100, (10, 3))\n",
    "f1 = np.roll(faces.repeat(2, axis=1), -1, axis=1)\n",
    "f2 = f1.reshape(len(f)*3, 2)\n",
    "f2 = np.sort(f2, axis=1)\n",
    "g1 = f2.view(dtype=[('p0', f2.dtype), ('p1', f2.dtype)])\n",
    "g2 = np.unique(g1)"
   ]
  },
  {
   "cell_type": "code",
   "execution_count": 300,
   "metadata": {},
   "outputs": [
    {
     "name": "stdout",
     "output_type": "stream",
     "text": [
      "[0 2 1 1 2 0 1]\n",
      "[1 1 2 3 4 4 6]\n"
     ]
    },
    {
     "data": {
      "text/plain": [
       "array([ True,  True,  True,  True,  True,  True,  True])"
      ]
     },
     "execution_count": 300,
     "metadata": {},
     "output_type": "execute_result"
    }
   ],
   "source": [
    "# 74 given an array c, create an array a so that np.bincount(a) == c\n",
    "c = np.bincount([1, 1, 2, 3, 4, 4, 6])\n",
    "print(c)\n",
    "a = np.repeat(np.arange(len(c)), c)\n",
    "print(a)\n",
    "np.bincount(a) == c"
   ]
  },
  {
   "cell_type": "code",
   "execution_count": 303,
   "metadata": {},
   "outputs": [
    {
     "name": "stdout",
     "output_type": "stream",
     "text": [
      "[ 0.  1.  3.  6. 10. 15. 21. 28. 36. 45.]\n",
      "[ 6. 10. 15. 21. 28. 36. 45.]\n",
      "[ 0.  1.  3.  6. 10. 15. 21.]\n",
      "[ 6.  9. 12. 15. 18. 21. 24.]\n",
      "[ 3.  6.  9. 12. 15. 18. 21. 24.]\n"
     ]
    },
    {
     "data": {
      "text/plain": [
       "array([1., 2., 3., 4., 5., 6., 7., 8.])"
      ]
     },
     "execution_count": 303,
     "metadata": {},
     "output_type": "execute_result"
    }
   ],
   "source": [
    "# 75 calculate the average of a moving window on an array\n",
    "def moving_avg(a, n=3):\n",
    "    ret = np.cumsum(a, dtype=float)\n",
    "    print(ret)\n",
    "    print(ret[n:])\n",
    "    print(ret[:-n])\n",
    "    ret[n:] = ret[n:] - ret[:-n]\n",
    "    print(ret[n:])\n",
    "    print(ret[n-1:])\n",
    "    return ret[n-1:] / n\n",
    "z = np.arange(10)\n",
    "moving_avg(z, 3)"
   ]
  },
  {
   "cell_type": "code",
   "execution_count": 319,
   "metadata": {},
   "outputs": [
    {
     "name": "stdout",
     "output_type": "stream",
     "text": [
      "[0 1 2 3 4 5 6 7 8 9]\n"
     ]
    },
    {
     "data": {
      "text/plain": [
       "array([[0., 1., 2.],\n",
       "       [1., 2., 3.],\n",
       "       [2., 3., 4.],\n",
       "       [3., 4., 5.],\n",
       "       [4., 5., 6.],\n",
       "       [5., 6., 7.],\n",
       "       [6., 7., 8.],\n",
       "       [7., 8., 9.]])"
      ]
     },
     "execution_count": 319,
     "metadata": {},
     "output_type": "execute_result"
    }
   ],
   "source": [
    "# 76 consider a 1d array z, build a 2d array whos 1st row is (z[0], z[1], z[2]),\n",
    "# and each subsequent row is shifted by 1 \n",
    "# last row shoulf be (z[-3], z[-2], z[-1])\n",
    "z = np.arange(10)\n",
    "print(z)\n",
    "nr = len(z)-2\n",
    "a = np.zeros((nr, 3))\n",
    "for i in range(nr):\n",
    "   a[i,:] = (z[i], z[i+1], z[i+2])\n",
    "a"
   ]
  },
  {
   "cell_type": "code",
   "execution_count": 325,
   "metadata": {},
   "outputs": [
    {
     "name": "stdout",
     "output_type": "stream",
     "text": [
      "[0 1 0 0 0 1 0 1 0 0 1 0 1 0 0 0 0 1 1 1]\n",
      "[1 0 1 1 1 0 1 0 1 1 0 1 0 1 1 1 1 0 0 0]\n",
      "[ 0.87843268  0.18885774 -0.9672231   0.40912654  0.46425105  0.74939698]\n",
      "[-0.87843268 -0.18885774  0.9672231  -0.40912654 -0.46425105 -0.74939698]\n"
     ]
    }
   ],
   "source": [
    "# 77\n",
    "z1 = np.random.randint(0, 2, 20)\n",
    "print(z1)\n",
    "np.logical_not(z1, out=z1)\n",
    "print(z1)\n",
    "\n",
    "z2 = np.random.uniform(-1, 1, 6)\n",
    "print(z2)\n",
    "np.negative(z2, out=z2)\n",
    "print(z2)"
   ]
  },
  {
   "cell_type": "code",
   "execution_count": 326,
   "metadata": {},
   "outputs": [
    {
     "name": "stdout",
     "output_type": "stream",
     "text": [
      "[10.11540718  4.27012034 11.78561302 19.79409338 10.68767407  8.15408017\n",
      "  4.90510472 10.90036162  9.59585949  3.59476973]\n"
     ]
    }
   ],
   "source": [
    "# 78 Consider a set of lines described with 2 sets of dots, and a point\n",
    "# calculate the distance from the point to each line\n",
    "p0 = np.random.uniform(-10, 10, (10, 2))\n",
    "p1 = np.random.uniform(-10, 10, (10, 2))\n",
    "p = np.random.uniform(-10, 10, (1, 2))\n",
    "\n",
    "def distance(p0, p1, p):\n",
    "    t = p1 - p0\n",
    "    l = (t**2).sum(axis=1)\n",
    "    u = -((p0[:,0]-p[...,0])*t[:,0] + (p0[:,1]-p[...,1]*t[:,1])) / l\n",
    "    u = u.reshape(len(u), 1)\n",
    "    d = p0 + u*t - p\n",
    "    return np.sqrt((d**2).sum(axis=1))\n",
    "\n",
    "print(distance(p0, p1, p))"
   ]
  },
  {
   "cell_type": "code",
   "execution_count": 330,
   "metadata": {},
   "outputs": [
    {
     "name": "stdout",
     "output_type": "stream",
     "text": [
      "[[ 9.1498224   5.34842203 12.04524018  5.32419005  3.86598938 17.96812643\n",
      "  13.51231546  6.65134046  5.22738214  7.47616507]\n",
      " [ 4.02453584  7.25985532  1.05692674  7.44712975  7.90180044  5.36605234\n",
      "   1.41949278  6.56969535  5.80783098 11.76726272]\n",
      " [ 2.84387723  6.01912293  2.20123668  1.54422619  0.94839132  4.74419854\n",
      "   7.04252648  4.83462396  2.7966138   7.52529291]\n",
      " [ 6.27419147 11.41728176  1.38570142 11.53608184 12.30681689  3.82910024\n",
      "   3.47348756 10.65552445 10.35484356 15.72406174]\n",
      " [ 6.85980818  5.12978621  4.31597323  6.98225924  6.60516012  1.69358879\n",
      "   1.43794458  5.17671595  4.02924778  9.57874334]\n",
      " [ 6.14399061  8.98006187  1.96201955  9.79147438 10.21820014  3.4542224\n",
      "   2.07715536  8.55289299  8.0837651  13.40945827]\n",
      " [ 5.70621995  4.57973214  3.47482526  5.61367024  5.21887572  2.69951369\n",
      "   2.4751243   4.31121336  2.64649816  8.82789516]\n",
      " [ 6.3788616   8.21740015  2.45456274  9.36314396  9.63598927  3.02989978\n",
      "   1.80581355  7.95230967  7.41635325 12.6842977 ]\n",
      " [ 6.14661089  5.99391973  5.75938419  2.62627599  1.44222241  1.16252991\n",
      "   5.10658435  4.2866406   1.86356945  7.52117562]\n",
      " [ 1.79801491  5.9309091   3.52216686  2.39680783  1.98409299  9.80297183\n",
      "   9.68733317  5.65702289  3.96361813  7.51130995]]\n"
     ]
    }
   ],
   "source": [
    "# 79 Consider a set of lines described with 2 sets of dots, and a set of points\n",
    "# calculate the distance from each point to each line\n",
    "p2 = np.random.uniform(-10, 10, (10, 2))\n",
    "p3 = np.random.uniform(-10, 10, (10, 2))\n",
    "p4 = np.random.uniform(-10, 10, (10, 2))\n",
    "print(np.array([distance(p2, p3, pi) for pi in p4]))"
   ]
  },
  {
   "cell_type": "code",
   "execution_count": 338,
   "metadata": {},
   "outputs": [
    {
     "data": {
      "text/plain": [
       "array([5, 5])"
      ]
     },
     "execution_count": 338,
     "metadata": {},
     "output_type": "execute_result"
    }
   ],
   "source": [
    "# 80 COnsider an arbitary array, write a function that extract a subpart with a fixed shape \n",
    "# and centered on a given element \n",
    "# (pad with a fill value when necessary)\n",
    "z = np.random.randint(0, 10, (10, 10))\n",
    "shape =(5, 5)\n",
    "fill = 0\n",
    "position = (1, 2)\n",
    "\n",
    "r = np.ones(shape, dtype=z.dtype)*fill\n",
    "p = np.array(list(position)).astype(int)\n",
    "rs = np.array(list(r.shape)).astype(int)\n",
    "zs = np.array(list(z.shape)).astype(int)\n",
    "print(r)\n",
    "print()\n",
    "r_start = np.zeros((len(shape),)).astype(int)\n",
    "r_stop = np.array(list(shape)).astype(int)\n",
    "z_start = (p-rs//2)\n",
    "z_stop = (p+rs//2) + rs%2"
   ]
  },
  {
   "cell_type": "code",
   "execution_count": 333,
   "metadata": {},
   "outputs": [
    {
     "data": {
      "text/plain": [
       "[1, 2]"
      ]
     },
     "execution_count": 333,
     "metadata": {},
     "output_type": "execute_result"
    }
   ],
   "source": []
  }
 ],
 "metadata": {
  "kernelspec": {
   "display_name": "Python 3",
   "language": "python",
   "name": "python3"
  },
  "language_info": {
   "codemirror_mode": {
    "name": "ipython",
    "version": 3
   },
   "file_extension": ".py",
   "mimetype": "text/x-python",
   "name": "python",
   "nbconvert_exporter": "python",
   "pygments_lexer": "ipython3",
   "version": "3.7.1"
  }
 },
 "nbformat": 4,
 "nbformat_minor": 2
}
