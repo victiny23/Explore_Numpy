{
 "cells": [
  {
   "cell_type": "code",
   "execution_count": 1,
   "metadata": {},
   "outputs": [],
   "source": [
    "import numpy as np"
   ]
  },
  {
   "cell_type": "code",
   "execution_count": 3,
   "metadata": {},
   "outputs": [
    {
     "name": "stdout",
     "output_type": "stream",
     "text": [
      "(2, 3)\n",
      "(6,)\n"
     ]
    },
    {
     "data": {
      "text/plain": [
       "array([1, 2, 3, 4, 5, 6])"
      ]
     },
     "execution_count": 3,
     "metadata": {},
     "output_type": "execute_result"
    }
   ],
   "source": [
    "# flatten()\n",
    "a = np.array([[1, 2, 3],\n",
    "              [4, 5, 6]])\n",
    "b = a.flatten()\n",
    "print(a.shape)\n",
    "print(b.shape)\n",
    "b"
   ]
  },
  {
   "cell_type": "code",
   "execution_count": 8,
   "metadata": {},
   "outputs": [
    {
     "data": {
      "text/plain": [
       "array([[11, 10,  9,  8],\n",
       "       [ 7,  6,  5,  4],\n",
       "       [ 3,  2,  1,  0]])"
      ]
     },
     "execution_count": 8,
     "metadata": {},
     "output_type": "execute_result"
    }
   ],
   "source": [
    "# flip()\n",
    "a = np.arange(12).reshape(3, 4)\n",
    "np.flip(a)"
   ]
  },
  {
   "cell_type": "code",
   "execution_count": 14,
   "metadata": {},
   "outputs": [
    {
     "name": "stdout",
     "output_type": "stream",
     "text": [
      "[[ 0  1  2  3]\n",
      " [ 4  5  6  7]\n",
      " [ 8  9 10 11]]\n"
     ]
    },
    {
     "data": {
      "text/plain": [
       "array([[ 8,  9, 10, 11],\n",
       "       [ 4,  5,  6,  7],\n",
       "       [ 0,  1,  2,  3]])"
      ]
     },
     "execution_count": 14,
     "metadata": {},
     "output_type": "execute_result"
    }
   ],
   "source": [
    "# flip rows\n",
    "a = np.arange(12).reshape(3, 4)\n",
    "print(a)\n",
    "a[::-1]"
   ]
  },
  {
   "cell_type": "code",
   "execution_count": 20,
   "metadata": {},
   "outputs": [
    {
     "name": "stdout",
     "output_type": "stream",
     "text": [
      "a: [ 0  1  2  3  4  5  6  7  8  9 10 11]\n",
      "b: [[ 0  1  2  3]\n",
      " [ 4  5  6  7]\n",
      " [ 8  9 10 11]]\n",
      "a: [[ 0  1  2]\n",
      " [ 3  4  5]\n",
      " [ 6  7  8]\n",
      " [ 9 10 11]]\n",
      "c: None\n"
     ]
    }
   ],
   "source": [
    "\"\"\"reshape vs resize\"\"\"\n",
    "# reshape() returns a new array, no change on original array\n",
    "# resize() returns nothing, but changes the original array\n",
    "a = np.arange(12)\n",
    "b = a.reshape(3, 4)\n",
    "print(\"a:\", a)\n",
    "print(\"b:\", b)\n",
    "c = a.resize(4, 3)\n",
    "print(\"a:\", a)\n",
    "print(\"c:\", c)"
   ]
  },
  {
   "cell_type": "code",
   "execution_count": 37,
   "metadata": {},
   "outputs": [
    {
     "name": "stdout",
     "output_type": "stream",
     "text": [
      "0\n",
      "1\n",
      "2\n",
      "3\n",
      "4\n",
      "5\n",
      "6\n",
      "7\n",
      "8\n",
      "9\n",
      "10\n",
      "100\n"
     ]
    }
   ],
   "source": [
    "for i in a.flat:\n",
    "    print(i)"
   ]
  },
  {
   "cell_type": "code",
   "execution_count": 34,
   "metadata": {},
   "outputs": [
    {
     "name": "stdout",
     "output_type": "stream",
     "text": [
      "[  0   1   2   3   4   5   6   7   8   9  10 100]\n",
      "[[  0   1   2]\n",
      " [  3   4   5]\n",
      " [  6   7   8]\n",
      " [  9  10 100]]\n"
     ]
    }
   ],
   "source": [
    "# ravel()  is a library level function\n",
    "# modifying value would change the original array\n",
    "d = a.ravel()\n",
    "d[-1] = 100\n",
    "print(d)\n",
    "print(a)"
   ]
  },
  {
   "cell_type": "code",
   "execution_count": 33,
   "metadata": {},
   "outputs": [
    {
     "name": "stdout",
     "output_type": "stream",
     "text": [
      "[ 0  1  2  3  4  5  6  7  8  9 10 50]\n",
      "[[  0   1   2]\n",
      " [  3   4   5]\n",
      " [  6   7   8]\n",
      " [  9  10 100]]\n"
     ]
    }
   ],
   "source": [
    "# flatten() is a method of ndarray object\n",
    "# modifying the value does not effect original array\n",
    "e  =a.flatten()\n",
    "e[-1] = 50\n",
    "print(e)\n",
    "print(a)"
   ]
  }
 ],
 "metadata": {
  "kernelspec": {
   "display_name": "Python 3",
   "language": "python",
   "name": "python3"
  },
  "language_info": {
   "codemirror_mode": {
    "name": "ipython",
    "version": 3
   },
   "file_extension": ".py",
   "mimetype": "text/x-python",
   "name": "python",
   "nbconvert_exporter": "python",
   "pygments_lexer": "ipython3",
   "version": "3.7.1"
  }
 },
 "nbformat": 4,
 "nbformat_minor": 2
}
